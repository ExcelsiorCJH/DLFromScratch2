{
 "cells": [
  {
   "cell_type": "markdown",
   "metadata": {},
   "source": [
    "# Chap01 - 신경망 복습"
   ]
  },
  {
   "cell_type": "markdown",
   "metadata": {},
   "source": [
    "## 1.1 수학과 파이썬 복습"
   ]
  },
  {
   "cell_type": "markdown",
   "metadata": {},
   "source": [
    "### 1.1.2 행렬의 원소별 연산"
   ]
  },
  {
   "cell_type": "code",
   "execution_count": 1,
   "metadata": {},
   "outputs": [],
   "source": [
    "import numpy as np"
   ]
  },
  {
   "cell_type": "code",
   "execution_count": 2,
   "metadata": {},
   "outputs": [],
   "source": [
    "W = np.array([[1, 2, 3], \n",
    "              [4, 5, 6]])\n",
    "X = np.array([[0, 1, 2], \n",
    "              [3, 4, 5]])"
   ]
  },
  {
   "cell_type": "code",
   "execution_count": 3,
   "metadata": {},
   "outputs": [
    {
     "data": {
      "text/plain": [
       "array([[ 1,  3,  5],\n",
       "       [ 7,  9, 11]])"
      ]
     },
     "execution_count": 3,
     "metadata": {},
     "output_type": "execute_result"
    }
   ],
   "source": [
    "W + X"
   ]
  },
  {
   "cell_type": "code",
   "execution_count": 4,
   "metadata": {},
   "outputs": [
    {
     "data": {
      "text/plain": [
       "array([[ 0,  2,  6],\n",
       "       [12, 20, 30]])"
      ]
     },
     "execution_count": 4,
     "metadata": {},
     "output_type": "execute_result"
    }
   ],
   "source": [
    "# element-wise(point-wise)\n",
    "W * X"
   ]
  },
  {
   "cell_type": "markdown",
   "metadata": {},
   "source": [
    " "
   ]
  },
  {
   "cell_type": "markdown",
   "metadata": {},
   "source": [
    "### 1.1.3 브로드캐스트 (Broadcast)\n",
    "\n",
    "- https://docs.scipy.org/doc/numpy-1.13.0/user/basics.broadcasting.html"
   ]
  },
  {
   "cell_type": "code",
   "execution_count": 5,
   "metadata": {},
   "outputs": [
    {
     "data": {
      "text/plain": [
       "array([[10, 20],\n",
       "       [30, 40]])"
      ]
     },
     "execution_count": 5,
     "metadata": {},
     "output_type": "execute_result"
    }
   ],
   "source": [
    "A = np.array([[1, 2], \n",
    "              [3, 4]])\n",
    "\n",
    "A * 10"
   ]
  },
  {
   "cell_type": "markdown",
   "metadata": {},
   "source": [
    " "
   ]
  },
  {
   "cell_type": "markdown",
   "metadata": {},
   "source": [
    "$$\n",
    "\\begin{bmatrix}\n",
    "1 & 2 \\\\ 3 & 4\n",
    "\\end{bmatrix}\n",
    "*\n",
    "\\begin{bmatrix}\n",
    "10 & 20\n",
    "\\end{bmatrix}\n",
    "= \n",
    "\\begin{bmatrix}\n",
    "1 & 2 \\\\ 3 & 4\n",
    "\\end{bmatrix}\n",
    "*\n",
    "\\begin{bmatrix}\n",
    "10 & 20 \\\\ 10 & 20\n",
    "\\end{bmatrix}\n",
    "=\n",
    "\\begin{bmatrix}\n",
    "10 & 40 \\\\ 30 & 80\n",
    "\\end{bmatrix}\n",
    "$$"
   ]
  },
  {
   "cell_type": "code",
   "execution_count": 7,
   "metadata": {},
   "outputs": [
    {
     "data": {
      "text/plain": [
       "array([[10, 40],\n",
       "       [30, 80]])"
      ]
     },
     "execution_count": 7,
     "metadata": {},
     "output_type": "execute_result"
    }
   ],
   "source": [
    "A = np.array([[1, 2], \n",
    "              [3, 4]])\n",
    "b = np.array([10, 20])\n",
    "\n",
    "A * b"
   ]
  },
  {
   "cell_type": "markdown",
   "metadata": {},
   "source": [
    " "
   ]
  },
  {
   "cell_type": "markdown",
   "metadata": {},
   "source": [
    "### 1.1.4 벡터의 내적과 행렬의 곱\n",
    "\n",
    "- $\\mathbf{x} = (x_1, \\dots, x_n)$, $\\mathbf{y} = (y_1, \\dots, y_n)$ 에 대하여, 백터의 내적은 두 벡터에서 대응하는 원소들의 곱을 모두 더한 것\n",
    "\n",
    "$$\n",
    "\\mathbf{x} \\cdot \\mathbf{y} = \\mathbf{x}^{T} \\mathbf{y} = x_1y_1 + x_2y_2 + \\cdots + x_ny_n\n",
    "$$\n"
   ]
  },
  {
   "cell_type": "markdown",
   "metadata": {},
   "source": [
    "> 벡터의 내적은 직관적으로 '두 벡터가 얼마나 같은 방향을 향하고 있는가'를 나타낸다. 벡터의 길이가 1이라고 가정하고, 두 벡터가 완전히 같은 방향이면 두 벡터의 내적은 1이 된다."
   ]
  },
  {
   "cell_type": "code",
   "execution_count": 10,
   "metadata": {},
   "outputs": [
    {
     "data": {
      "text/plain": [
       "32"
      ]
     },
     "execution_count": 10,
     "metadata": {},
     "output_type": "execute_result"
    }
   ],
   "source": [
    "# 벡터의 내적\n",
    "a = np.array([1, 2, 3])\n",
    "b = np.array([4, 5, 6])\n",
    "\n",
    "np.dot(a, b)"
   ]
  },
  {
   "cell_type": "code",
   "execution_count": 11,
   "metadata": {},
   "outputs": [
    {
     "data": {
      "text/plain": [
       "array([[19, 22],\n",
       "       [43, 50]])"
      ]
     },
     "execution_count": 11,
     "metadata": {},
     "output_type": "execute_result"
    }
   ],
   "source": [
    "# 행렬의 곱\n",
    "A = np.array([[1, 2], \n",
    "              [3, 4]])\n",
    "B = np.array([[5, 6], \n",
    "              [7, 8]])\n",
    "\n",
    "np.matmul(A, B)"
   ]
  },
  {
   "cell_type": "code",
   "execution_count": 12,
   "metadata": {},
   "outputs": [
    {
     "data": {
      "text/plain": [
       "array([[19, 22],\n",
       "       [43, 50]])"
      ]
     },
     "execution_count": 12,
     "metadata": {},
     "output_type": "execute_result"
    }
   ],
   "source": [
    "np.dot(A, B)"
   ]
  },
  {
   "cell_type": "markdown",
   "metadata": {},
   "source": [
    " "
   ]
  },
  {
   "cell_type": "markdown",
   "metadata": {},
   "source": [
    "> https://github.com/rougier/numpy-100"
   ]
  },
  {
   "cell_type": "markdown",
   "metadata": {},
   "source": [
    " "
   ]
  },
  {
   "cell_type": "markdown",
   "metadata": {},
   "source": [
    "## 1.2 신경망의 추론"
   ]
  },
  {
   "cell_type": "markdown",
   "metadata": {},
   "source": [
    "### 1.2.1 신경망 추론의 전체 그림"
   ]
  },
  {
   "cell_type": "code",
   "execution_count": 13,
   "metadata": {},
   "outputs": [],
   "source": [
    "# Inpur -> hidden\n",
    "W1 = np.random.randn(2, 4)  # 가중치\n",
    "b1 = np.random.randn(4)\n",
    "x = np.random.randn(10, 2)\n",
    "h = np.matmul(x, W1) + b1  # b1 은 브로드캐스팅 됨"
   ]
  },
  {
   "cell_type": "code",
   "execution_count": 14,
   "metadata": {},
   "outputs": [
    {
     "data": {
      "text/plain": [
       "array([[-3.33462594,  1.83375388,  1.36724767, -0.78160224],\n",
       "       [-3.31796424,  1.07546246,  0.98015921, -0.49495683],\n",
       "       [-4.18341648,  1.1503361 ,  0.95845804, -0.80703702],\n",
       "       [-2.72641124,  0.01163217,  0.47651541,  0.09384387],\n",
       "       [-3.51206655,  1.12462725,  0.99186665, -0.57695321],\n",
       "       [-3.22412013,  0.76790655,  0.82920093, -0.35008666],\n",
       "       [-2.71258202, -0.89403187,  0.01377586,  0.43420399],\n",
       "       [-3.68717149,  1.61922506,  1.2329531 , -0.81787355],\n",
       "       [-3.10348124,  2.41349991,  1.68011143, -0.9206346 ],\n",
       "       [-3.31372714,  1.33131827,  1.111451  , -0.58843528]])"
      ]
     },
     "execution_count": 14,
     "metadata": {},
     "output_type": "execute_result"
    }
   ],
   "source": [
    "h"
   ]
  },
  {
   "cell_type": "markdown",
   "metadata": {},
   "source": [
    " "
   ]
  },
  {
   "cell_type": "markdown",
   "metadata": {},
   "source": [
    "- 비선형 변환 : 시그모이드 함수(sigmoid function)\n",
    "\n",
    "$$\n",
    "\\sigma(x) = \\frac{1}{1 + \\exp{(-x)}}\n",
    "$$"
   ]
  },
  {
   "cell_type": "code",
   "execution_count": 15,
   "metadata": {},
   "outputs": [],
   "source": [
    "def sigmoid(x):\n",
    "    return 1 / (1 + np.exp(-x))"
   ]
  },
  {
   "cell_type": "code",
   "execution_count": 16,
   "metadata": {},
   "outputs": [
    {
     "data": {
      "text/plain": [
       "array([[0.03440223, 0.86220831, 0.79693511, 0.31397467],\n",
       "       [0.03496003, 0.74563434, 0.72713981, 0.37872656],\n",
       "       [0.01501737, 0.7595723 , 0.72281297, 0.30852225],\n",
       "       [0.06143276, 0.50290801, 0.6169247 , 0.52344376],\n",
       "       [0.02897084, 0.75484601, 0.72945646, 0.35963396],\n",
       "       [0.03826806, 0.68306787, 0.69618594, 0.41336141],\n",
       "       [0.06223499, 0.29027849, 0.50344391, 0.60687709],\n",
       "       [0.02443092, 0.83468823, 0.77433502, 0.30621523],\n",
       "       [0.04296389, 0.91785096, 0.84291929, 0.28482861],\n",
       "       [0.03510326, 0.79105861, 0.75239952, 0.35699395]])"
      ]
     },
     "execution_count": 16,
     "metadata": {},
     "output_type": "execute_result"
    }
   ],
   "source": [
    "a = sigmoid(h)  # 활성화(activation)\n",
    "\n",
    "a"
   ]
  },
  {
   "cell_type": "code",
   "execution_count": 17,
   "metadata": {},
   "outputs": [
    {
     "data": {
      "text/plain": [
       "(10, 4)"
      ]
     },
     "execution_count": 17,
     "metadata": {},
     "output_type": "execute_result"
    }
   ],
   "source": [
    "a.shape"
   ]
  },
  {
   "cell_type": "code",
   "execution_count": 18,
   "metadata": {},
   "outputs": [],
   "source": [
    "# hidden -> output\n",
    "W2 = np.random.randn(4, 3)\n",
    "b2 = np.random.randn(3)\n",
    "\n",
    "s = np.matmul(a, W2) + b2  # score 값"
   ]
  },
  {
   "cell_type": "code",
   "execution_count": 19,
   "metadata": {},
   "outputs": [
    {
     "data": {
      "text/plain": [
       "array([[-2.66883962e-01,  9.38922574e-02,  1.10333791e+00],\n",
       "       [-8.67869189e-02,  2.39539933e-01,  9.92154210e-01],\n",
       "       [-1.03642770e-01,  1.76227184e-01,  1.03129749e+00],\n",
       "       [ 2.36378452e-01,  5.47614350e-01,  8.13989934e-01],\n",
       "       [-9.82273246e-02,  2.17445018e-01,  1.00641342e+00],\n",
       "       [ 1.05545234e-03,  3.16776467e-01,  9.44196857e-01],\n",
       "       [ 5.38248858e-01,  7.85386036e-01,  6.62533868e-01],\n",
       "       [-2.18709051e-01,  1.10956765e-01,  1.08457452e+00],\n",
       "       [-3.72002672e-01,  2.47587644e-02,  1.17703439e+00],\n",
       "       [-1.54103014e-01,  1.85832801e-01,  1.02917877e+00]])"
      ]
     },
     "execution_count": 19,
     "metadata": {},
     "output_type": "execute_result"
    }
   ],
   "source": [
    "s"
   ]
  },
  {
   "cell_type": "markdown",
   "metadata": {},
   "source": [
    " "
   ]
  },
  {
   "cell_type": "markdown",
   "metadata": {},
   "source": [
    "### 1.2.2 계층으로 클래스화 및 순전파 구현 \n",
    "\n",
    "- 완전연결계층(fully connected layer)에 의한 변환은 기하학에서의 아핀(Affine) 변환에 해당"
   ]
  },
  {
   "cell_type": "code",
   "execution_count": 30,
   "metadata": {},
   "outputs": [],
   "source": [
    "import numpy as np\n",
    "\n",
    "# 시그모이드(Sigmoid) 레이어 구현\n",
    "class Sigmoid:\n",
    "    '''Sigmoid Layer class\n",
    "    \n",
    "    Sigmoid layer에는 학습하는 params가 따로 없으므로 \n",
    "    인스턴스 변수인 params는 빈 리스트로 초기화\n",
    "    \n",
    "    '''\n",
    "    def __init__(self):\n",
    "        self.params = []\n",
    "    \n",
    "    def forward(self, x):\n",
    "        \"\"\"순전파(forward propagation) 메서드\n",
    "        Args:\n",
    "            x(ndarray): 입력으로 들어오는 값\n",
    "        Returns:\n",
    "            Sigmoid 활성화 값\n",
    "        \"\"\"\n",
    "        return 1 / (1 + np.exp(-x))"
   ]
  },
  {
   "cell_type": "code",
   "execution_count": 31,
   "metadata": {},
   "outputs": [],
   "source": [
    "# 완전연결계층(Affine) 구현\n",
    "class Affine:\n",
    "    '''FC layer'''\n",
    "    def __init__(self, W, b):\n",
    "        \"\"\"\n",
    "        Args: \n",
    "            W(ndarray): 가중치(weight)\n",
    "            b(ndarray): 편향(bias)\n",
    "        \"\"\"\n",
    "        self.params = [W, b]\n",
    "        \n",
    "    def forward(self, x):\n",
    "        \"\"\"순전파(forward propagation) 메서드\n",
    "        Args:\n",
    "            x(ndarray): 입력으로 들어오는 값\n",
    "        Returns:\n",
    "            out(ndarray): Wx + b\n",
    "        \"\"\"\n",
    "        W, b = self.params\n",
    "        out = np.matmul(x, W) + b\n",
    "        return out"
   ]
  },
  {
   "cell_type": "markdown",
   "metadata": {},
   "source": [
    " "
   ]
  },
  {
   "cell_type": "markdown",
   "metadata": {},
   "source": [
    "<img src=\"./images/basic_nn.png\" width=\"70%\" height=\"70%\" />"
   ]
  },
  {
   "cell_type": "code",
   "execution_count": 35,
   "metadata": {},
   "outputs": [],
   "source": [
    "class TwoLayerNet:\n",
    "    def __init__(self, input_size, hidden_size, output_size):\n",
    "        I, H, O = input_size, hidden_size, output_size\n",
    "        \n",
    "        # 가중치와 편향 초기화\n",
    "        # input -> hidden\n",
    "        W1 = np.random.randn(I, H)  \n",
    "        b1 = np.random.randn(H)\n",
    "         # hidden -> output\n",
    "        W2 = np.random.randn(H, O) \n",
    "        b2 = np.random.randn(O)\n",
    "        \n",
    "        # 레이어 생성\n",
    "        self.layers = [\n",
    "            Affine(W1, b1),\n",
    "            Sigmoid(),\n",
    "            Affine(W2, b2)\n",
    "        ]\n",
    "        \n",
    "        # 모든 가중치를 리스트에 모은다.\n",
    "        self.parmas = [layer.params for layer in self.layers]\n",
    "        # self.params = []\n",
    "        # for layer in self.layers:\n",
    "        #     self.params += layer.params\n",
    "        \n",
    "    def predict(self, x):\n",
    "        for layer in self.layers:\n",
    "            x = layer.forward(x)\n",
    "        return x"
   ]
  },
  {
   "cell_type": "code",
   "execution_count": 36,
   "metadata": {},
   "outputs": [],
   "source": [
    "x = np.random.randn(10, 2)\n",
    "model = TwoLayerNet(2, 4, 3)\n",
    "s = model.predict(x)"
   ]
  },
  {
   "cell_type": "code",
   "execution_count": 34,
   "metadata": {},
   "outputs": [
    {
     "data": {
      "text/plain": [
       "array([[-2.37208419, -1.2272713 , -0.71600047],\n",
       "       [-1.99217296, -1.11038922, -1.17477847],\n",
       "       [-2.4097767 , -0.97492006, -1.02192888],\n",
       "       [-2.11839519, -1.48960661, -0.51950315],\n",
       "       [-2.18613271, -0.8669607 , -1.35818199],\n",
       "       [-2.49563619, -0.91864415, -1.03032285],\n",
       "       [-2.92241833, -1.28789096, -0.19786216],\n",
       "       [-2.57245646, -0.69173756, -1.35170837],\n",
       "       [-2.26468526, -0.77741298, -1.44616699],\n",
       "       [-2.81967667, -0.84530049, -0.87213041]])"
      ]
     },
     "execution_count": 34,
     "metadata": {},
     "output_type": "execute_result"
    }
   ],
   "source": [
    "s"
   ]
  },
  {
   "cell_type": "code",
   "execution_count": 37,
   "metadata": {},
   "outputs": [
    {
     "data": {
      "text/plain": [
       "array([[-0.3557911 , -0.66037635, -0.3281263 ],\n",
       "       [ 0.22745096, -0.14754727, -0.20193402],\n",
       "       [ 0.42144866, -0.37246175, -0.43626679],\n",
       "       [-0.49126246, -0.50797159, -0.20269287],\n",
       "       [ 0.10785604, -0.58505229, -0.47976242],\n",
       "       [-0.22429006, -0.41612883, -0.23535545],\n",
       "       [-0.13092219, -0.60470566, -0.42340892],\n",
       "       [ 0.65300882, -0.42005398, -0.51794339],\n",
       "       [-0.29888822, -0.24882564, -0.11788807],\n",
       "       [-0.31995078, -0.68040913, -0.3912852 ]])"
      ]
     },
     "execution_count": 37,
     "metadata": {},
     "output_type": "execute_result"
    }
   ],
   "source": [
    "s"
   ]
  },
  {
   "cell_type": "markdown",
   "metadata": {},
   "source": [
    " "
   ]
  },
  {
   "cell_type": "markdown",
   "metadata": {},
   "source": [
    "## 1.3 신경망의 학습"
   ]
  },
  {
   "cell_type": "markdown",
   "metadata": {},
   "source": [
    "### 1.3.1 손실 함수(Loss Function)\n",
    "\n",
    "- 신경망의 성능을 나타내는 척도로 손실(loss)을 사용\n",
    "\n",
    "- 신경망의 손실은 손실 함수를 사용해 구함 \n",
    "\n",
    "- 다중 클래스 분류(multi-class classification)의 경우 **교차 엔트로피 오차**(CEE, Cross Entropy Error)를 사용\n",
    "\n",
    "\n",
    "- Softmax 함수의 식은 다음과 같다. \n",
    "    - 즉 class가 $n$개 일 때, $k$ 번째 클래스의 확률 $y_k$ 를 구하는 식\n",
    "\n",
    "$$\n",
    "y_{k} = \\frac{\\exp{(s_k)}}{\\sum_{i=1}^{n}{\\exp{(S_i)}}}\n",
    "$$\n",
    "\n",
    "\n",
    "- Cross Entropy 식은 다음과 같다.\n",
    "     - $t_k$는 $k$번째 클래스에 해당하는 정답 레이블\n",
    "     - $\\log$는 밑을 $e$로 하는 로그\n",
    "     - 정답 레이블 $t_k$는 원-핫 벡터이기 때문에, 실질적으로 $1$에만 해당하는 인덱스만 계산 된다.\n",
    "\n",
    "$$\n",
    "\\begin{align*}\n",
    "L &- -\\sum_{k}{\\left[ t_k \\log{y_k} + (1-t_k) \\log{(1-y_k)}\\right]} \\\\ \n",
    "&= - \\sum_{k}{t_k \\log{y_k}}\n",
    "\\end{align*}\n",
    "$$"
   ]
  },
  {
   "cell_type": "markdown",
   "metadata": {},
   "source": [
    " "
   ]
  },
  {
   "cell_type": "markdown",
   "metadata": {},
   "source": [
    "#### Softmax with Loss 레이어 \n",
    "\n",
    "- 해당 교재에서는 소프트맥스 함수와 교차 엔트로피 오차를 계산하는 레이어인 `SoftmaxWithLoss` 클래스를 구현하여 사용한다.\n",
    "\n",
    "- [밑바닥 부터 시작하는 딥러닝-1]의 5.6.3 에서 확인할 수 있다.\n",
    "\n",
    "- `common/layer.py`에서 `SoftmaxWithLoss` 클래스를 확인할 수 있다.\n",
    "\n",
    "![](./images/softmaxwitloss.png)"
   ]
  },
  {
   "cell_type": "markdown",
   "metadata": {},
   "source": [
    " "
   ]
  },
  {
   "cell_type": "markdown",
   "metadata": {},
   "source": [
    "### 1.3.2 미분과 기울기\n",
    "\n",
    "예를 들어, $L$은 스칼라, $x$는 벡터인 함수\n",
    "\n",
    "$$\n",
    "L = f(x)\n",
    "$$\n",
    "\n",
    "에 대해 벡터의 각 원소에 대한 미분을 계산한 것이 **기울기**(gradient)이다.\n",
    "\n",
    "$$\n",
    "\\frac{\\partial L}{\\partial \\mathbf{x}} = \\left[ \\frac{\\partial L}{\\partial x_1}, \\frac{\\partial L}{\\partial x_2}, \\cdots, \\frac{\\partial L}{\\partial x_n} \\right]\n",
    "$$"
   ]
  },
  {
   "cell_type": "markdown",
   "metadata": {},
   "source": [
    " "
   ]
  },
  {
   "cell_type": "markdown",
   "metadata": {},
   "source": [
    "### 1.3.3 연쇄 법칙(Chain Rule)\n",
    "\n",
    "> *합성함수의 미분은 합성 함수를 구성하는 각 함수의 미분의 곱으로 나타낼 수 있다.*\n",
    "\n",
    "$$\n",
    "t = x + y\n",
    "$$\n",
    "\n",
    "$$\n",
    "z = t^2\n",
    "$$\n",
    "\n",
    "$$\n",
    "\\frac{\\partial z}{\\partial x} = \\frac{\\partial z}{\\partial t} \\frac{\\partial t}{\\partial x}\n",
    "$$\n",
    "\n",
    "$$\n",
    "\\frac{\\partial z}{\\partial t} = 2t\n",
    "$$\n",
    "\n",
    "$$\n",
    "\\frac{\\partial t}{\\partial x} = 1\n",
    "$$\n",
    "\n",
    "$$\n",
    "\\frac{\\partial z}{\\partial x} = \\frac{\\partial z}{\\partial t} \\frac{\\partial t}{\\partial x} = 2t \\cdot 1 = 2(x + y)\n",
    "$$"
   ]
  },
  {
   "cell_type": "markdown",
   "metadata": {},
   "source": [
    " "
   ]
  },
  {
   "cell_type": "markdown",
   "metadata": {},
   "source": [
    "### 1.3.4 계산 그래프\n",
    "\n",
    "**계산 그래프(computational graph)**는 계산 과정을 그래프로 나타낸 것이며, **노드**(node)와 **엣지**(edge)로 표현된다. 노드는 연산을 정의하며, 엣지는 데이터가 흘러가는 방향을 나타낸다."
   ]
  },
  {
   "cell_type": "markdown",
   "metadata": {},
   "source": [
    "#### 덧셈 노드\n",
    "\n",
    "$$\n",
    "z = x + y\n",
    "$$\n",
    "\n",
    "$$\n",
    "\\frac{\\partial z}{\\partial x} = 1\n",
    "$$\n",
    "\n",
    "$$\n",
    "\\frac{\\partial z}{\\partial y} = 1\n",
    "$$\n",
    "\n",
    "덧셈 노드의 역전파는 입력값을 그대로 흘려보낸다.\n",
    "\n",
    "<img src=\"./images/5-9.PNG\" width=\"60%\" height=\"60%\"/>"
   ]
  },
  {
   "cell_type": "markdown",
   "metadata": {},
   "source": [
    "#### 곱셈 노드\n",
    "\n",
    "$$\n",
    "z =xy\n",
    "$$\n",
    "\n",
    "$$\n",
    "\\frac{\\partial z}{\\partial x} = y \n",
    "$$\n",
    "\n",
    "$$\n",
    "\\frac{\\partial z}{\\partial y} = x\n",
    "$$\n",
    "\n",
    "<img src=\"./images/5-12.PNG\" width=\"60%\" height=\"60%\"/>"
   ]
  },
  {
   "cell_type": "markdown",
   "metadata": {},
   "source": [
    " "
   ]
  },
  {
   "cell_type": "markdown",
   "metadata": {},
   "source": [
    "#### 분기 노드\n",
    "\n",
    "분기 노드는 선이 두 개로 나뉘면서, 같은 값이 복제(복제 노드라고도 함)된다. 분기노드의 역전파는 상류에서 온 기울기들의 '합'이 된다.\n",
    "\n",
    "![](./images/branch.png)"
   ]
  },
  {
   "cell_type": "markdown",
   "metadata": {},
   "source": [
    " "
   ]
  },
  {
   "cell_type": "markdown",
   "metadata": {},
   "source": [
    "#### Repeat 노드\n",
    "\n",
    "분기 노드를 일반화 하면 $N$개로 분기 되는데, 이를 Repeat 노드라고 한다.\n",
    "\n",
    "![](./images/repeat.png)"
   ]
  },
  {
   "cell_type": "code",
   "execution_count": 6,
   "metadata": {},
   "outputs": [
    {
     "name": "stdout",
     "output_type": "stream",
     "text": [
      "x.shape: (1, 8)\n",
      "y.shape: (7, 8)\n"
     ]
    }
   ],
   "source": [
    "# Repeat 노드 예제\n",
    "import numpy as np\n",
    "\n",
    "D, N = 8, 7\n",
    "x = np.random.randn(1, D)  # 입력\n",
    "# np.repeat()이 복제노드 역할을 함\n",
    "y = np.repeat(x, N, axis=0)  # 순전파\n",
    "\n",
    "print(f'x.shape: {x.shape}')\n",
    "print(f'y.shape: {y.shape}')"
   ]
  },
  {
   "cell_type": "code",
   "execution_count": 4,
   "metadata": {},
   "outputs": [
    {
     "data": {
      "text/plain": [
       "array([[ 0.54584051, -1.5606453 ,  0.14294559,  0.09624454,  1.14489683,\n",
       "        -0.48701153, -0.35318436, -0.66725125]])"
      ]
     },
     "execution_count": 4,
     "metadata": {},
     "output_type": "execute_result"
    }
   ],
   "source": [
    "x"
   ]
  },
  {
   "cell_type": "code",
   "execution_count": 5,
   "metadata": {},
   "outputs": [
    {
     "data": {
      "text/plain": [
       "array([[ 0.54584051, -1.5606453 ,  0.14294559,  0.09624454,  1.14489683,\n",
       "        -0.48701153, -0.35318436, -0.66725125],\n",
       "       [ 0.54584051, -1.5606453 ,  0.14294559,  0.09624454,  1.14489683,\n",
       "        -0.48701153, -0.35318436, -0.66725125],\n",
       "       [ 0.54584051, -1.5606453 ,  0.14294559,  0.09624454,  1.14489683,\n",
       "        -0.48701153, -0.35318436, -0.66725125],\n",
       "       [ 0.54584051, -1.5606453 ,  0.14294559,  0.09624454,  1.14489683,\n",
       "        -0.48701153, -0.35318436, -0.66725125],\n",
       "       [ 0.54584051, -1.5606453 ,  0.14294559,  0.09624454,  1.14489683,\n",
       "        -0.48701153, -0.35318436, -0.66725125],\n",
       "       [ 0.54584051, -1.5606453 ,  0.14294559,  0.09624454,  1.14489683,\n",
       "        -0.48701153, -0.35318436, -0.66725125],\n",
       "       [ 0.54584051, -1.5606453 ,  0.14294559,  0.09624454,  1.14489683,\n",
       "        -0.48701153, -0.35318436, -0.66725125]])"
      ]
     },
     "execution_count": 5,
     "metadata": {},
     "output_type": "execute_result"
    }
   ],
   "source": [
    "y"
   ]
  },
  {
   "cell_type": "code",
   "execution_count": 11,
   "metadata": {},
   "outputs": [],
   "source": [
    "dy = np.random.randn(N, D)  # 랜덤한 기울기\n",
    "# keepdims=True -> 차원수 유지\n",
    "dx = np.sum(dy, axis=0, keepdims=True)  # 역전파  "
   ]
  },
  {
   "cell_type": "code",
   "execution_count": 12,
   "metadata": {},
   "outputs": [
    {
     "data": {
      "text/plain": [
       "(1, 8)"
      ]
     },
     "execution_count": 12,
     "metadata": {},
     "output_type": "execute_result"
    }
   ],
   "source": [
    "dx.shape"
   ]
  },
  {
   "cell_type": "markdown",
   "metadata": {},
   "source": [
    " \n"
   ]
  },
  {
   "cell_type": "markdown",
   "metadata": {},
   "source": [
    "#### Sum 노드\n",
    "\n",
    "아래의 그림에서 확인할 수 있듯이, Sum 노드와 Repeat 노드는 서로 **'반대 관계'** 이다. \n",
    "- Sum 노드의 순전파가 Repeat 노드의 역전파이며,\n",
    "- Sum 노드의 역전파가 Repeat 노드의 순전파가 된다.\n",
    "\n",
    "![](./images/sum.png)"
   ]
  },
  {
   "cell_type": "code",
   "execution_count": 1,
   "metadata": {},
   "outputs": [
    {
     "name": "stdout",
     "output_type": "stream",
     "text": [
      "x.shape: (7, 8)\n",
      "y.shape: (1, 8)\n"
     ]
    }
   ],
   "source": [
    "# Sum 노드 역전파 예제\n",
    "import numpy as np\n",
    "\n",
    "D, N = 8, 7\n",
    "x = np.random.randn(N, D)  # 입력\n",
    "y = np.sum(x, axis=0, keepdims=True)  # 순전파\n",
    "\n",
    "print(f'x.shape: {x.shape}')\n",
    "print(f'y.shape: {y.shape}')"
   ]
  },
  {
   "cell_type": "code",
   "execution_count": 14,
   "metadata": {},
   "outputs": [],
   "source": [
    "dy = np.random.randn(1, D)  # 랜덤한 기울기 생성\n",
    "dx = np.repeat(dy, N, axis=0)"
   ]
  },
  {
   "cell_type": "code",
   "execution_count": 15,
   "metadata": {},
   "outputs": [
    {
     "data": {
      "text/plain": [
       "array([[ 0.51512798, -2.04672646, -0.72218552, -0.97744118, -1.21339265,\n",
       "        -0.1540431 ,  1.2196921 , -1.46093408],\n",
       "       [ 0.51512798, -2.04672646, -0.72218552, -0.97744118, -1.21339265,\n",
       "        -0.1540431 ,  1.2196921 , -1.46093408],\n",
       "       [ 0.51512798, -2.04672646, -0.72218552, -0.97744118, -1.21339265,\n",
       "        -0.1540431 ,  1.2196921 , -1.46093408],\n",
       "       [ 0.51512798, -2.04672646, -0.72218552, -0.97744118, -1.21339265,\n",
       "        -0.1540431 ,  1.2196921 , -1.46093408],\n",
       "       [ 0.51512798, -2.04672646, -0.72218552, -0.97744118, -1.21339265,\n",
       "        -0.1540431 ,  1.2196921 , -1.46093408],\n",
       "       [ 0.51512798, -2.04672646, -0.72218552, -0.97744118, -1.21339265,\n",
       "        -0.1540431 ,  1.2196921 , -1.46093408],\n",
       "       [ 0.51512798, -2.04672646, -0.72218552, -0.97744118, -1.21339265,\n",
       "        -0.1540431 ,  1.2196921 , -1.46093408]])"
      ]
     },
     "execution_count": 15,
     "metadata": {},
     "output_type": "execute_result"
    }
   ],
   "source": [
    "dx"
   ]
  },
  {
   "cell_type": "markdown",
   "metadata": {},
   "source": [
    " "
   ]
  },
  {
   "cell_type": "markdown",
   "metadata": {},
   "source": [
    "#### MatMul 노드\n",
    "\n",
    "행렬의 곱셈 Matrix Multiply의 약자로 `MatMul`을 사용한다. 배치사이즈가 $N$이라고 할 때 MatMul 노드의 역전파는 다음과 같다.\n",
    "\n",
    "<img src=\"./images/matmul.png\" height=\"50%\" width=\"50%\"/>\n",
    "\n",
    "\n",
    "$$\n",
    "\\frac{\\partial L}{\\partial \\mathbf{x}} = \\frac{\\partial L}{\\partial \\mathbf{y}} \\mathbf{W}^{T}\n",
    "$$\n",
    "\n",
    "$$\n",
    "\\frac{\\partial L}{\\partial \\mathbf{W}} =  \\mathbf{x}^{T} \\frac{\\partial L}{\\partial \\mathbf{y}}\n",
    "$$"
   ]
  },
  {
   "cell_type": "code",
   "execution_count": 2,
   "metadata": {},
   "outputs": [],
   "source": [
    "import numpy as np"
   ]
  },
  {
   "cell_type": "code",
   "execution_count": 3,
   "metadata": {},
   "outputs": [],
   "source": [
    "# MatMul 클래스 구현\n",
    "# common/layers.py\n",
    "\n",
    "class MatMul:\n",
    "    def __init__(self, W):\n",
    "        self.params = [W]\n",
    "        self.grads = [np.zeros_like(W)]\n",
    "        self.x = None\n",
    "        \n",
    "    def forward(self, x):\n",
    "        W, = self.params\n",
    "        out = np.matmul(x, W)\n",
    "        self.x = x\n",
    "        return out\n",
    "    \n",
    "    def backward(self, dout):\n",
    "        W, = self.params\n",
    "        dx = np.matmul(dout, W.T)\n",
    "        dW = np.matmul(self.x.T, dout)\n",
    "        self.grads[0][...] = dW  # 깊은 복사\n",
    "        return dx"
   ]
  },
  {
   "cell_type": "code",
   "execution_count": 7,
   "metadata": {},
   "outputs": [],
   "source": [
    "# 얕은 복사와 깊은 복사 차이 확인\n",
    "a = np.array([1, 2, 3])\n",
    "b = np.array([4, 5, 6])"
   ]
  },
  {
   "cell_type": "code",
   "execution_count": 8,
   "metadata": {},
   "outputs": [],
   "source": [
    "a = b"
   ]
  },
  {
   "cell_type": "code",
   "execution_count": 9,
   "metadata": {},
   "outputs": [
    {
     "data": {
      "text/plain": [
       "True"
      ]
     },
     "execution_count": 9,
     "metadata": {},
     "output_type": "execute_result"
    }
   ],
   "source": [
    "id(a) == id(b)"
   ]
  },
  {
   "cell_type": "code",
   "execution_count": 10,
   "metadata": {},
   "outputs": [],
   "source": [
    "a = np.array([1, 2, 3])\n",
    "b = np.array([4, 5, 6])"
   ]
  },
  {
   "cell_type": "code",
   "execution_count": 11,
   "metadata": {},
   "outputs": [],
   "source": [
    "a[...] = b"
   ]
  },
  {
   "cell_type": "code",
   "execution_count": 12,
   "metadata": {},
   "outputs": [
    {
     "data": {
      "text/plain": [
       "False"
      ]
     },
     "execution_count": 12,
     "metadata": {},
     "output_type": "execute_result"
    }
   ],
   "source": [
    "id(a) == id(b)"
   ]
  },
  {
   "cell_type": "markdown",
   "metadata": {},
   "source": [
    " "
   ]
  },
  {
   "cell_type": "markdown",
   "metadata": {},
   "source": [
    "### 1.3.5 기울기 도출과 역전파 구현"
   ]
  },
  {
   "cell_type": "markdown",
   "metadata": {},
   "source": [
    "### Sigmoid 계층\n",
    "\n",
    "![](./images/sigmoid.png)"
   ]
  },
  {
   "cell_type": "code",
   "execution_count": 14,
   "metadata": {},
   "outputs": [],
   "source": [
    "# Sigmoid layer 클래스 구현\n",
    "# common/layers.py\n",
    "class Sigmoid:\n",
    "    def __init__(self):\n",
    "        self.params, self.grads = [], []\n",
    "        self.out = None\n",
    "        \n",
    "    def forward(self, x):\n",
    "        out = 1 / (1 + np.exp(-x))\n",
    "        self.out = out\n",
    "        return out\n",
    "    \n",
    "    def backward(self, dout):\n",
    "        dx = dout * (1.0 - self.out) * self.out\n",
    "        return dx"
   ]
  },
  {
   "cell_type": "markdown",
   "metadata": {},
   "source": [
    " "
   ]
  },
  {
   "cell_type": "markdown",
   "metadata": {},
   "source": [
    "#### Affine 계층\n",
    "\n",
    "<img src=\"./images/affine.png\" height=\"50%\" width=\"50%\"/>"
   ]
  },
  {
   "cell_type": "code",
   "execution_count": 15,
   "metadata": {},
   "outputs": [],
   "source": [
    "class Affine:\n",
    "    def __init__(self, W, b):\n",
    "        self.params = [W, b]\n",
    "        self.grads = [np.zeros_like(W), np.zeros_like(b)]\n",
    "        self.x = None\n",
    "        \n",
    "    def forward(self, x):\n",
    "        W, b = self.params\n",
    "        out = np.matmul(x, W) + b\n",
    "        self.x = x\n",
    "        return out\n",
    "    \n",
    "    def backward(self, dout):\n",
    "        W, b = self.params\n",
    "        dx = np.matmul(dout, W.T)\n",
    "        dW = np.matmul(self.x.T, dout)\n",
    "        db = np.sum(dout, axis=0)\n",
    "        \n",
    "        self.grads[0][...] = dW\n",
    "        self.grads[1][...] = db\n",
    "        return dx"
   ]
  },
  {
   "cell_type": "markdown",
   "metadata": {},
   "source": [
    " "
   ]
  },
  {
   "cell_type": "markdown",
   "metadata": {},
   "source": [
    "#### Softmax with Loss 계층\n",
    "\n",
    "<img src=\"./images/softmaxwithloss.png\" height=\"70%\" width=\"70%\"/>"
   ]
  },
  {
   "cell_type": "code",
   "execution_count": 3,
   "metadata": {},
   "outputs": [],
   "source": [
    "import sys\n",
    "sys.path.append('..')  # 부모 디렉터리의 파일을 가져올 수 있도록 설정\n",
    "import numpy as np\n",
    "from common.functions import softmax, cross_entropy_error\n",
    "\n",
    "class SoftmaxWithLoss:\n",
    "    def __init__(self):\n",
    "        self.params, self.grads = [], []\n",
    "        self.y = None  # softmax의 출력\n",
    "        self.t = None  # 정답 레이블\n",
    "\n",
    "    def forward(self, x, t):\n",
    "        self.t = t\n",
    "        self.y = softmax(x)\n",
    "\n",
    "        # 정답 레이블이 원핫 벡터일 경우 정답의 인덱스로 변환\n",
    "        # cross_entropy_error()에 이미 있어서 굳이 필요 없을 듯\n",
    "        if self.t.size == self.y.size:\n",
    "            self.t = self.t. argmax(axis=1)\n",
    "\n",
    "        loss = cross_entropy_error(self.y, self.t)\n",
    "        return loss\n",
    "\n",
    "    def backward(self, dout=1):\n",
    "        batch_size = self.t.shape[0]\n",
    "\n",
    "        dx = self.y.copy()\n",
    "        dx[np.arange(batch_size), self.t] -= 1\n",
    "        dx *= dout\n",
    "        dx /= batch_size\n",
    "\n",
    "        return dx"
   ]
  },
  {
   "cell_type": "markdown",
   "metadata": {},
   "source": [
    " "
   ]
  },
  {
   "cell_type": "markdown",
   "metadata": {},
   "source": [
    "### 1.3.6 가중치 갱신\n",
    "\n",
    "신경망의 학습 순서는 다음과 같다.\n",
    "\n",
    "- 1단계: 미니배치\n",
    "    - 훈련 데이터 중 랜덤으로 다수의 데이터를 샘플링 한다.\n",
    "    \n",
    "    \n",
    "- 2단계: 기울기 계산\n",
    "    - 오차역전파법으로 각 가중치 매개변수에 대한 손실 함수의 기울기를 구한다.\n",
    "    \n",
    "    \n",
    "- 3단계: 매개변수 갱신\n",
    "    - 기울기를 사용하여 가중치 매개변수를 갱신한다.\n",
    "    \n",
    "    \n",
    "- 4단계: 반복\n",
    "    - 1 ~ 3단계를 필요한 만큼 반복한다.\n",
    "    \n",
    "    \n",
    "2단계에서 구한 기울기는 현재의 가중치 매개변수에서 손실을 가장 크게 하는 방향을 가리키기 때문에, 매개변수를 그 기울기와 반대 방향으로 갱신해야 한다. 이를 **경사 하강법**(Gradient Descent)이라 한다.\n",
    "\n",
    "경사하강법 중 가장 단순한 방법인 **확률적 경사하강법**(SGD, Stochastic Gradient Descent)는 다음과 같다. $\\eta$는 학습률(learning rate)를 나타낸다.\n",
    "\n",
    "$$\n",
    "\\mathbf{W} \\leftarrow \\mathbf{W} - \\eta \\frac{\\partial L}{\\partial \\mathbf{W}}\n",
    "$$"
   ]
  },
  {
   "cell_type": "code",
   "execution_count": 1,
   "metadata": {},
   "outputs": [],
   "source": [
    "class SGD:\n",
    "    '''\n",
    "    확률적 경사하강법(SGD, Stochastic Gradient Descent)\n",
    "        W <- W - lr * (dL/dW)\n",
    "    '''\n",
    "    def __init__(self, lr=0.01):\n",
    "        self.lr = lr  # learning rate\n",
    "\n",
    "    def update(self, params, grads):\n",
    "        for i in range(len(params)):\n",
    "            params[i] -= self.lr * grads[i]"
   ]
  },
  {
   "cell_type": "markdown",
   "metadata": {},
   "source": [
    " "
   ]
  },
  {
   "cell_type": "markdown",
   "metadata": {},
   "source": [
    "![](./images/optimizer.png)"
   ]
  },
  {
   "cell_type": "markdown",
   "metadata": {},
   "source": [
    " "
   ]
  },
  {
   "cell_type": "markdown",
   "metadata": {},
   "source": [
    "## 1.4 신경망으로 문제를 풀다"
   ]
  },
  {
   "cell_type": "markdown",
   "metadata": {},
   "source": [
    "### 1.4.1 스파이럴 데이터셋"
   ]
  },
  {
   "cell_type": "code",
   "execution_count": 3,
   "metadata": {},
   "outputs": [
    {
     "name": "stdout",
     "output_type": "stream",
     "text": [
      "x (300, 2)\n",
      "t (300, 3)\n"
     ]
    }
   ],
   "source": [
    "import sys\n",
    "sys.path.append('..')  # 부모 디렉터리의 파일을 가져올 수 있도록 설정\n",
    "import matplotlib.pyplot as plt\n",
    "\n",
    "from dataset import spiral\n",
    "\n",
    "x, t = spiral.load_data()\n",
    "print('x', x.shape)  # (300, 2)\n",
    "print('t', t.shape)"
   ]
  },
  {
   "cell_type": "code",
   "execution_count": 4,
   "metadata": {},
   "outputs": [
    {
     "data": {
      "image/png": "[encoded data removed]",
      "text/plain": [
       "<Figure size 432x288 with 1 Axes>"
      ]
     },
     "metadata": {
      "needs_background": "light"
     },
     "output_type": "display_data"
    }
   ],
   "source": [
    "# 데이터점 플롯\n",
    "N = 100\n",
    "CLS_NUM = 3\n",
    "markers = ['o', 'x', '^']\n",
    "for i in range(CLS_NUM):\n",
    "    plt.scatter(x[i*N:(i+1)*N, 0], x[i*N:(i+1)*N, 1], s=40, marker=markers[i])\n",
    "plt.show()"
   ]
  },
  {
   "cell_type": "markdown",
   "metadata": {},
   "source": [
    "  "
   ]
  },
  {
   "cell_type": "markdown",
   "metadata": {},
   "source": [
    "### 1.4.2 신경망 구현"
   ]
  },
  {
   "cell_type": "code",
   "execution_count": 7,
   "metadata": {},
   "outputs": [],
   "source": [
    "# ch01/two_layer_net.py\n",
    "import sys\n",
    "sys.path.append('..')\n",
    "from common.np import *\n",
    "from common.layers import Affine, Sigmoid, SoftmaxWithLoss\n",
    "\n",
    "\n",
    "class TwoLayerNet:\n",
    "    def __init__(self, input_size, hidden_size, output_size):\n",
    "        I, H, O = input_size, hidden_size, output_size\n",
    "        \n",
    "        # 가중치와 편향 초기화\n",
    "        W1 = 0.01 * np.random.randn(I, H)\n",
    "        b1 = np.zeros(H)\n",
    "        W2 = 0.01 * np.random.randn(H, O)\n",
    "        b2 = np.zeros(O)\n",
    "        \n",
    "        # 레이어 생성\n",
    "        self.layers = [\n",
    "            Affine(W1, b1),\n",
    "            Sigmoid(),\n",
    "            Affine(W2, b2)\n",
    "        ]\n",
    "        self.loss_layer = SoftmaxWithLoss()\n",
    "        \n",
    "        # 모든 가중치와 기울기를 리스트에 모은다.\n",
    "        self.params, self.grads = [], []\n",
    "        for layer in self.layers:\n",
    "            self.params += layer.params\n",
    "            self.grads += layer.grads\n",
    "            \n",
    "    def predict(self, x):\n",
    "        for layer in self.layers:\n",
    "            x = layer.forward(x)\n",
    "        return x\n",
    "    \n",
    "    def forward(self, x, t):\n",
    "        score = self.predict(x)\n",
    "        loss = self.loss_layer.forward(score, t)\n",
    "        return loss\n",
    "    \n",
    "    def backward(self, dout=1):\n",
    "        dout = self.loss_layer.backward(dout)\n",
    "        for layer in reversed(self.layers):\n",
    "            dout = layer.backward(dout)\n",
    "        return dout"
   ]
  },
  {
   "cell_type": "markdown",
   "metadata": {},
   "source": [
    " "
   ]
  },
  {
   "cell_type": "markdown",
   "metadata": {},
   "source": [
    "### 1.4.3 학습용 코드"
   ]
  },
  {
   "cell_type": "code",
   "execution_count": 6,
   "metadata": {},
   "outputs": [
    {
     "name": "stderr",
     "output_type": "stream",
     "text": [
      " 56%|█████▌    | 168/300 [00:00<00:00, 828.13it/s]"
     ]
    },
    {
     "name": "stdout",
     "output_type": "stream",
     "text": [
      "| 에폭 1 | 반복10/10 | 손실 1.13\n",
      "| 에폭 2 | 반복10/10 | 손실 1.13\n",
      "| 에폭 3 | 반복10/10 | 손실 1.12\n",
      "| 에폭 4 | 반복10/10 | 손실 1.12\n",
      "| 에폭 5 | 반복10/10 | 손실 1.11\n",
      "| 에폭 6 | 반복10/10 | 손실 1.14\n",
      "| 에폭 7 | 반복10/10 | 손실 1.16\n",
      "| 에폭 8 | 반복10/10 | 손실 1.11\n",
      "| 에폭 9 | 반복10/10 | 손실 1.12\n",
      "| 에폭 10 | 반복10/10 | 손실 1.13\n",
      "| 에폭 11 | 반복10/10 | 손실 1.12\n",
      "| 에폭 12 | 반복10/10 | 손실 1.11\n",
      "| 에폭 13 | 반복10/10 | 손실 1.09\n",
      "| 에폭 14 | 반복10/10 | 손실 1.08\n",
      "| 에폭 15 | 반복10/10 | 손실 1.04\n",
      "| 에폭 16 | 반복10/10 | 손실 1.03\n",
      "| 에폭 17 | 반복10/10 | 손실 0.96\n",
      "| 에폭 18 | 반복10/10 | 손실 0.92\n",
      "| 에폭 19 | 반복10/10 | 손실 0.92\n",
      "| 에폭 20 | 반복10/10 | 손실 0.87\n",
      "| 에폭 21 | 반복10/10 | 손실 0.85\n",
      "| 에폭 22 | 반복10/10 | 손실 0.82\n",
      "| 에폭 23 | 반복10/10 | 손실 0.79\n",
      "| 에폭 24 | 반복10/10 | 손실 0.78\n",
      "| 에폭 25 | 반복10/10 | 손실 0.82\n",
      "| 에폭 26 | 반복10/10 | 손실 0.78\n",
      "| 에폭 27 | 반복10/10 | 손실 0.76\n",
      "| 에폭 28 | 반복10/10 | 손실 0.76\n",
      "| 에폭 29 | 반복10/10 | 손실 0.78\n",
      "| 에폭 30 | 반복10/10 | 손실 0.75\n",
      "| 에폭 31 | 반복10/10 | 손실 0.78\n",
      "| 에폭 32 | 반복10/10 | 손실 0.77\n",
      "| 에폭 33 | 반복10/10 | 손실 0.77\n",
      "| 에폭 34 | 반복10/10 | 손실 0.78\n",
      "| 에폭 35 | 반복10/10 | 손실 0.75\n",
      "| 에폭 36 | 반복10/10 | 손실 0.74\n",
      "| 에폭 37 | 반복10/10 | 손실 0.76\n",
      "| 에폭 38 | 반복10/10 | 손실 0.76\n",
      "| 에폭 39 | 반복10/10 | 손실 0.73\n",
      "| 에폭 40 | 반복10/10 | 손실 0.75\n",
      "| 에폭 41 | 반복10/10 | 손실 0.76\n",
      "| 에폭 42 | 반복10/10 | 손실 0.76\n",
      "| 에폭 43 | 반복10/10 | 손실 0.76\n",
      "| 에폭 44 | 반복10/10 | 손실 0.74\n",
      "| 에폭 45 | 반복10/10 | 손실 0.75\n",
      "| 에폭 46 | 반복10/10 | 손실 0.73\n",
      "| 에폭 47 | 반복10/10 | 손실 0.72\n",
      "| 에폭 48 | 반복10/10 | 손실 0.73\n",
      "| 에폭 49 | 반복10/10 | 손실 0.72\n",
      "| 에폭 50 | 반복10/10 | 손실 0.72\n",
      "| 에폭 51 | 반복10/10 | 손실 0.72\n",
      "| 에폭 52 | 반복10/10 | 손실 0.72\n",
      "| 에폭 53 | 반복10/10 | 손실 0.74\n",
      "| 에폭 54 | 반복10/10 | 손실 0.74\n",
      "| 에폭 55 | 반복10/10 | 손실 0.72\n",
      "| 에폭 56 | 반복10/10 | 손실 0.72\n",
      "| 에폭 57 | 반복10/10 | 손실 0.71\n",
      "| 에폭 58 | 반복10/10 | 손실 0.70\n",
      "| 에폭 59 | 반복10/10 | 손실 0.72\n",
      "| 에폭 60 | 반복10/10 | 손실 0.70\n",
      "| 에폭 61 | 반복10/10 | 손실 0.71\n",
      "| 에폭 62 | 반복10/10 | 손실 0.72\n",
      "| 에폭 63 | 반복10/10 | 손실 0.70\n",
      "| 에폭 64 | 반복10/10 | 손실 0.71\n",
      "| 에폭 65 | 반복10/10 | 손실 0.73\n",
      "| 에폭 66 | 반복10/10 | 손실 0.70\n",
      "| 에폭 67 | 반복10/10 | 손실 0.71\n",
      "| 에폭 68 | 반복10/10 | 손실 0.69\n",
      "| 에폭 69 | 반복10/10 | 손실 0.70\n",
      "| 에폭 70 | 반복10/10 | 손실 0.71\n",
      "| 에폭 71 | 반복10/10 | 손실 0.68\n",
      "| 에폭 72 | 반복10/10 | 손실 0.69\n",
      "| 에폭 73 | 반복10/10 | 손실 0.67\n",
      "| 에폭 74 | 반복10/10 | 손실 0.68\n",
      "| 에폭 75 | 반복10/10 | 손실 0.67\n",
      "| 에폭 76 | 반복10/10 | 손실 0.66\n",
      "| 에폭 77 | 반복10/10 | 손실 0.69\n",
      "| 에폭 78 | 반복10/10 | 손실 0.64\n",
      "| 에폭 79 | 반복10/10 | 손실 0.68\n",
      "| 에폭 80 | 반복10/10 | 손실 0.64\n",
      "| 에폭 81 | 반복10/10 | 손실 0.64\n",
      "| 에폭 82 | 반복10/10 | 손실 0.66\n",
      "| 에폭 83 | 반복10/10 | 손실 0.62\n",
      "| 에폭 84 | 반복10/10 | 손실 0.62\n",
      "| 에폭 85 | 반복10/10 | 손실 0.61\n",
      "| 에폭 86 | 반복10/10 | 손실 0.60\n",
      "| 에폭 87 | 반복10/10 | 손실 0.60\n",
      "| 에폭 88 | 반복10/10 | 손실 0.61\n",
      "| 에폭 89 | 반복10/10 | 손실 0.59\n",
      "| 에폭 90 | 반복10/10 | 손실 0.58\n",
      "| 에폭 91 | 반복10/10 | 손실 0.56\n",
      "| 에폭 92 | 반복10/10 | 손실 0.56\n",
      "| 에폭 93 | 반복10/10 | 손실 0.54\n",
      "| 에폭 94 | 반복10/10 | 손실 0.53\n",
      "| 에폭 95 | 반복10/10 | 손실 0.53\n",
      "| 에폭 96 | 반복10/10 | 손실 0.52\n",
      "| 에폭 97 | 반복10/10 | 손실 0.51\n",
      "| 에폭 98 | 반복10/10 | 손실 0.50\n",
      "| 에폭 99 | 반복10/10 | 손실 0.48\n",
      "| 에폭 100 | 반복10/10 | 손실 0.48\n",
      "| 에폭 101 | 반복10/10 | 손실 0.46\n",
      "| 에폭 102 | 반복10/10 | 손실 0.45\n",
      "| 에폭 103 | 반복10/10 | 손실 0.45\n",
      "| 에폭 104 | 반복10/10 | 손실 0.44\n",
      "| 에폭 105 | 반복10/10 | 손실 0.44\n",
      "| 에폭 106 | 반복10/10 | 손실 0.41\n",
      "| 에폭 107 | 반복10/10 | 손실 0.40\n",
      "| 에폭 108 | 반복10/10 | 손실 0.41\n",
      "| 에폭 109 | 반복10/10 | 손실 0.40\n",
      "| 에폭 110 | 반복10/10 | 손실 0.40\n",
      "| 에폭 111 | 반복10/10 | 손실 0.38\n",
      "| 에폭 112 | 반복10/10 | 손실 0.38\n",
      "| 에폭 113 | 반복10/10 | 손실 0.36\n",
      "| 에폭 114 | 반복10/10 | 손실 0.37\n",
      "| 에폭 115 | 반복10/10 | 손실 0.35\n",
      "| 에폭 116 | 반복10/10 | 손실 0.34\n",
      "| 에폭 117 | 반복10/10 | 손실 0.34\n",
      "| 에폭 118 | 반복10/10 | 손실 0.34\n",
      "| 에폭 119 | 반복10/10 | 손실 0.33\n",
      "| 에폭 120 | 반복10/10 | 손실 0.34\n",
      "| 에폭 121 | 반복10/10 | 손실 0.32\n",
      "| 에폭 122 | 반복10/10 | 손실 0.32\n",
      "| 에폭 123 | 반복10/10 | 손실 0.31\n",
      "| 에폭 124 | 반복10/10 | 손실 0.31\n",
      "| 에폭 125 | 반복10/10 | 손실 0.30\n",
      "| 에폭 126 | 반복10/10 | 손실 0.30\n",
      "| 에폭 127 | 반복10/10 | 손실 0.28\n",
      "| 에폭 128 | 반복10/10 | 손실 0.28\n",
      "| 에폭 129 | 반복10/10 | 손실 0.28\n",
      "| 에폭 130 | 반복10/10 | 손실 0.28\n",
      "| 에폭 131 | 반복10/10 | 손실 0.27\n",
      "| 에폭 132 | 반복10/10 | 손실 0.27\n",
      "| 에폭 133 | 반복10/10 | 손실 0.27\n",
      "| 에폭 134 | 반복10/10 | 손실 0.27\n",
      "| 에폭 135 | 반복10/10 | 손실 0.27\n",
      "| 에폭 136 | 반복10/10 | 손실 0.26\n",
      "| 에폭 137 | 반복10/10 | 손실 0.26\n",
      "| 에폭 138 | 반복10/10 | 손실 0.26\n",
      "| 에폭 139 | 반복10/10 | 손실 0.25\n",
      "| 에폭 140 | 반복10/10 | 손실 0.24\n",
      "| 에폭 141 | 반복10/10 | 손실 0.24\n",
      "| 에폭 142 | 반복10/10 | 손실 0.25\n",
      "| 에폭 143 | 반복10/10 | 손실 0.24\n",
      "| 에폭 144 | 반복10/10 | 손실 0.24\n",
      "| 에폭 145 | 반복10/10 | 손실 0.23\n",
      "| 에폭 146 | 반복10/10 | 손실 0.24\n",
      "| 에폭 147 | 반복10/10 | 손실 0.23\n",
      "| 에폭 148 | 반복10/10 | 손실 0.23\n",
      "| 에폭 149 | 반복10/10 | 손실 0.22\n",
      "| 에폭 150 | 반복10/10 | 손실 0.22\n",
      "| 에폭 151 | 반복10/10 | 손실 0.22\n",
      "| 에폭 152 | 반복10/10 | 손실 0.22\n",
      "| 에폭 153 | 반복10/10 | 손실 0.22\n",
      "| 에폭 154 | 반복10/10 | 손실 0.22\n",
      "| 에폭 155 | 반복10/10 | 손실 0.22\n",
      "| 에폭 156 | 반복10/10 | 손실 0.21\n",
      "| 에폭 157 | 반복10/10 | 손실 0.21\n",
      "| 에폭 158 | 반복10/10 | 손실 0.20\n",
      "| 에폭 159 | 반복10/10 | 손실 0.21\n",
      "| 에폭 160 | 반복10/10 | 손실 0.20\n",
      "| 에폭 161 | 반복10/10 | 손실 0.20\n",
      "| 에폭 162 | 반복10/10 | 손실 0.20\n",
      "| 에폭 163 | 반복10/10 | 손실 0.21\n",
      "| 에폭 164 | 반복10/10 | 손실 0.20\n",
      "| 에폭 165 | 반복10/10 | 손실 0.20\n",
      "| 에폭 166 | 반복10/10 | 손실 0.19\n",
      "| 에폭 167 | 반복10/10 | 손실 0.19\n",
      "| 에폭 168 | 반복10/10 | 손실 0.19\n",
      "| 에폭 169 | 반복10/10 | 손실 0.19\n"
     ]
    },
    {
     "name": "stderr",
     "output_type": "stream",
     "text": [
      "100%|██████████| 300/300 [00:00<00:00, 835.05it/s]"
     ]
    },
    {
     "name": "stdout",
     "output_type": "stream",
     "text": [
      "| 에폭 170 | 반복10/10 | 손실 0.19\n",
      "| 에폭 171 | 반복10/10 | 손실 0.19\n",
      "| 에폭 172 | 반복10/10 | 손실 0.18\n",
      "| 에폭 173 | 반복10/10 | 손실 0.18\n",
      "| 에폭 174 | 반복10/10 | 손실 0.18\n",
      "| 에폭 175 | 반복10/10 | 손실 0.18\n",
      "| 에폭 176 | 반복10/10 | 손실 0.18\n",
      "| 에폭 177 | 반복10/10 | 손실 0.18\n",
      "| 에폭 178 | 반복10/10 | 손실 0.18\n",
      "| 에폭 179 | 반복10/10 | 손실 0.17\n",
      "| 에폭 180 | 반복10/10 | 손실 0.17\n",
      "| 에폭 181 | 반복10/10 | 손실 0.18\n",
      "| 에폭 182 | 반복10/10 | 손실 0.17\n",
      "| 에폭 183 | 반복10/10 | 손실 0.18\n",
      "| 에폭 184 | 반복10/10 | 손실 0.17\n",
      "| 에폭 185 | 반복10/10 | 손실 0.17\n",
      "| 에폭 186 | 반복10/10 | 손실 0.18\n",
      "| 에폭 187 | 반복10/10 | 손실 0.17\n",
      "| 에폭 188 | 반복10/10 | 손실 0.17\n",
      "| 에폭 189 | 반복10/10 | 손실 0.17\n",
      "| 에폭 190 | 반복10/10 | 손실 0.17\n",
      "| 에폭 191 | 반복10/10 | 손실 0.16\n",
      "| 에폭 192 | 반복10/10 | 손실 0.17\n",
      "| 에폭 193 | 반복10/10 | 손실 0.16\n",
      "| 에폭 194 | 반복10/10 | 손실 0.16\n",
      "| 에폭 195 | 반복10/10 | 손실 0.16\n",
      "| 에폭 196 | 반복10/10 | 손실 0.16\n",
      "| 에폭 197 | 반복10/10 | 손실 0.16\n",
      "| 에폭 198 | 반복10/10 | 손실 0.15\n",
      "| 에폭 199 | 반복10/10 | 손실 0.16\n",
      "| 에폭 200 | 반복10/10 | 손실 0.16\n",
      "| 에폭 201 | 반복10/10 | 손실 0.15\n",
      "| 에폭 202 | 반복10/10 | 손실 0.16\n",
      "| 에폭 203 | 반복10/10 | 손실 0.16\n",
      "| 에폭 204 | 반복10/10 | 손실 0.15\n",
      "| 에폭 205 | 반복10/10 | 손실 0.16\n",
      "| 에폭 206 | 반복10/10 | 손실 0.15\n",
      "| 에폭 207 | 반복10/10 | 손실 0.15\n",
      "| 에폭 208 | 반복10/10 | 손실 0.15\n",
      "| 에폭 209 | 반복10/10 | 손실 0.15\n",
      "| 에폭 210 | 반복10/10 | 손실 0.15\n",
      "| 에폭 211 | 반복10/10 | 손실 0.15\n",
      "| 에폭 212 | 반복10/10 | 손실 0.15\n",
      "| 에폭 213 | 반복10/10 | 손실 0.15\n",
      "| 에폭 214 | 반복10/10 | 손실 0.15\n",
      "| 에폭 215 | 반복10/10 | 손실 0.15\n",
      "| 에폭 216 | 반복10/10 | 손실 0.14\n",
      "| 에폭 217 | 반복10/10 | 손실 0.14\n",
      "| 에폭 218 | 반복10/10 | 손실 0.15\n",
      "| 에폭 219 | 반복10/10 | 손실 0.14\n",
      "| 에폭 220 | 반복10/10 | 손실 0.14\n",
      "| 에폭 221 | 반복10/10 | 손실 0.14\n",
      "| 에폭 222 | 반복10/10 | 손실 0.14\n",
      "| 에폭 223 | 반복10/10 | 손실 0.14\n",
      "| 에폭 224 | 반복10/10 | 손실 0.14\n",
      "| 에폭 225 | 반복10/10 | 손실 0.14\n",
      "| 에폭 226 | 반복10/10 | 손실 0.14\n",
      "| 에폭 227 | 반복10/10 | 손실 0.14\n",
      "| 에폭 228 | 반복10/10 | 손실 0.14\n",
      "| 에폭 229 | 반복10/10 | 손실 0.13\n",
      "| 에폭 230 | 반복10/10 | 손실 0.14\n",
      "| 에폭 231 | 반복10/10 | 손실 0.13\n",
      "| 에폭 232 | 반복10/10 | 손실 0.14\n",
      "| 에폭 233 | 반복10/10 | 손실 0.13\n",
      "| 에폭 234 | 반복10/10 | 손실 0.13\n",
      "| 에폭 235 | 반복10/10 | 손실 0.13\n",
      "| 에폭 236 | 반복10/10 | 손실 0.13\n",
      "| 에폭 237 | 반복10/10 | 손실 0.14\n",
      "| 에폭 238 | 반복10/10 | 손실 0.13\n",
      "| 에폭 239 | 반복10/10 | 손실 0.13\n",
      "| 에폭 240 | 반복10/10 | 손실 0.14\n",
      "| 에폭 241 | 반복10/10 | 손실 0.13\n",
      "| 에폭 242 | 반복10/10 | 손실 0.13\n",
      "| 에폭 243 | 반복10/10 | 손실 0.13\n",
      "| 에폭 244 | 반복10/10 | 손실 0.13\n",
      "| 에폭 245 | 반복10/10 | 손실 0.13\n",
      "| 에폭 246 | 반복10/10 | 손실 0.13\n",
      "| 에폭 247 | 반복10/10 | 손실 0.13\n",
      "| 에폭 248 | 반복10/10 | 손실 0.13\n",
      "| 에폭 249 | 반복10/10 | 손실 0.13\n",
      "| 에폭 250 | 반복10/10 | 손실 0.13\n",
      "| 에폭 251 | 반복10/10 | 손실 0.13\n",
      "| 에폭 252 | 반복10/10 | 손실 0.12\n",
      "| 에폭 253 | 반복10/10 | 손실 0.12\n",
      "| 에폭 254 | 반복10/10 | 손실 0.12\n",
      "| 에폭 255 | 반복10/10 | 손실 0.12\n",
      "| 에폭 256 | 반복10/10 | 손실 0.12\n",
      "| 에폭 257 | 반복10/10 | 손실 0.12\n",
      "| 에폭 258 | 반복10/10 | 손실 0.12\n",
      "| 에폭 259 | 반복10/10 | 손실 0.13\n",
      "| 에폭 260 | 반복10/10 | 손실 0.12\n",
      "| 에폭 261 | 반복10/10 | 손실 0.13\n",
      "| 에폭 262 | 반복10/10 | 손실 0.12\n",
      "| 에폭 263 | 반복10/10 | 손실 0.12\n",
      "| 에폭 264 | 반복10/10 | 손실 0.13\n",
      "| 에폭 265 | 반복10/10 | 손실 0.12\n",
      "| 에폭 266 | 반복10/10 | 손실 0.12\n",
      "| 에폭 267 | 반복10/10 | 손실 0.12\n",
      "| 에폭 268 | 반복10/10 | 손실 0.12\n",
      "| 에폭 269 | 반복10/10 | 손실 0.11\n",
      "| 에폭 270 | 반복10/10 | 손실 0.12\n",
      "| 에폭 271 | 반복10/10 | 손실 0.12\n",
      "| 에폭 272 | 반복10/10 | 손실 0.12\n",
      "| 에폭 273 | 반복10/10 | 손실 0.12\n",
      "| 에폭 274 | 반복10/10 | 손실 0.12\n",
      "| 에폭 275 | 반복10/10 | 손실 0.11\n",
      "| 에폭 276 | 반복10/10 | 손실 0.12\n",
      "| 에폭 277 | 반복10/10 | 손실 0.12\n",
      "| 에폭 278 | 반복10/10 | 손실 0.11\n",
      "| 에폭 279 | 반복10/10 | 손실 0.11\n",
      "| 에폭 280 | 반복10/10 | 손실 0.11\n",
      "| 에폭 281 | 반복10/10 | 손실 0.11\n",
      "| 에폭 282 | 반복10/10 | 손실 0.12\n",
      "| 에폭 283 | 반복10/10 | 손실 0.11\n",
      "| 에폭 284 | 반복10/10 | 손실 0.11\n",
      "| 에폭 285 | 반복10/10 | 손실 0.11\n",
      "| 에폭 286 | 반복10/10 | 손실 0.11\n",
      "| 에폭 287 | 반복10/10 | 손실 0.11\n",
      "| 에폭 288 | 반복10/10 | 손실 0.12\n",
      "| 에폭 289 | 반복10/10 | 손실 0.11\n",
      "| 에폭 290 | 반복10/10 | 손실 0.11\n",
      "| 에폭 291 | 반복10/10 | 손실 0.11\n",
      "| 에폭 292 | 반복10/10 | 손실 0.11\n",
      "| 에폭 293 | 반복10/10 | 손실 0.11\n",
      "| 에폭 294 | 반복10/10 | 손실 0.11\n",
      "| 에폭 295 | 반복10/10 | 손실 0.12\n",
      "| 에폭 296 | 반복10/10 | 손실 0.11\n",
      "| 에폭 297 | 반복10/10 | 손실 0.12\n",
      "| 에폭 298 | 반복10/10 | 손실 0.11\n",
      "| 에폭 299 | 반복10/10 | 손실 0.11\n",
      "| 에폭 300 | 반복10/10 | 손실 0.11\n"
     ]
    },
    {
     "name": "stderr",
     "output_type": "stream",
     "text": [
      "\n"
     ]
    }
   ],
   "source": [
    "# ch01/train_custom_loop.py\n",
    "import sys\n",
    "sys.path.append('..')\n",
    "import numpy as np\n",
    "import matplotlib\n",
    "import matplotlib.pyplot as plt\n",
    "from tqdm import tqdm  # pip install tqdm\n",
    "from common.optimizer import SGD\n",
    "from dataset import spiral\n",
    "from two_layer_net import TwoLayerNet\n",
    "\n",
    "matplotlib.rc('font', family='Malgun Gothic')  # linux\n",
    "# matplotlib.rc('font', family='AppleGothic')  # Mac\n",
    "\n",
    "# 1. 하이퍼파라미터 설정\n",
    "max_epoch = 300\n",
    "batch_size = 30\n",
    "hidden_size = 10\n",
    "learning_rate = 1.0\n",
    "\n",
    "# 2. 데이터 읽기, 모델과 옵티마이저 생성\n",
    "x, t = spiral.load_data()\n",
    "model = TwoLayerNet(input_size=2,\n",
    "                    hidden_size=hidden_size,\n",
    "                    output_size=3)\n",
    "optimizer = SGD(lr=learning_rate)\n",
    "\n",
    "# 학습에 사용하는 변수\n",
    "data_size = len(x)\n",
    "max_iters = data_size // batch_size\n",
    "total_loss = 0\n",
    "loss_count = 0\n",
    "loss_list = []\n",
    "\n",
    "for epoch in tqdm(range(max_epoch)):\n",
    "    # 3. 데이터 셔플링\n",
    "    idx = np.random.permutation(data_size)\n",
    "    x = x[idx]\n",
    "    t = t[idx]\n",
    "    \n",
    "    for iters in range(max_iters):\n",
    "        batch_x = x[iters*batch_size:(iters+1)*batch_size]\n",
    "        batch_t = t[iters*batch_size:(iters+1)*batch_size]\n",
    "        \n",
    "        # 기울기를 구해 매개변수 갱신\n",
    "        loss = model.forward(batch_x, batch_t)\n",
    "        model.backward()\n",
    "        optimizer.update(model.params, model.grads)\n",
    "        \n",
    "        total_loss += loss\n",
    "        loss_count += 1\n",
    "        \n",
    "        # 정기적으로 학습 경과 출력\n",
    "        if (iters+1) % 10 == 0:\n",
    "            avg_loss = total_loss / loss_count\n",
    "            print(f'| 에폭 {epoch+1} | 반복{iters+1}/{max_iters} | 손실 {avg_loss:.2f}')\n",
    "            loss_list.append(avg_loss)\n",
    "            total_loss, loss_count = 0, 0"
   ]
  },
  {
   "cell_type": "code",
   "execution_count": 7,
   "metadata": {},
   "outputs": [
    {
     "name": "stderr",
     "output_type": "stream",
     "text": [
      "/home/excelsiorcjh/miniconda3/envs/cupy/lib/python3.6/site-packages/matplotlib/font_manager.py:1241: UserWarning: findfont: Font family ['Malgun Gothic'] not found. Falling back to DejaVu Sans.\n",
      "  (prop.get_family(), self.defaultFamily[fontext]))\n"
     ]
    },
    {
     "data": {
      "image/png": "[encoded data removed]",
      "text/plain": [
       "<Figure size 432x288 with 1 Axes>"
      ]
     },
     "metadata": {
      "needs_background": "light"
     },
     "output_type": "display_data"
    },
    {
     "data": {
      "image/png": "[encoded data removed]",
      "text/plain": [
       "<Figure size 432x288 with 1 Axes>"
      ]
     },
     "metadata": {
      "needs_background": "light"
     },
     "output_type": "display_data"
    }
   ],
   "source": [
    "# 학습 결과 플롯\n",
    "plt.plot(np.arange(len(loss_list)), loss_list, label='train')\n",
    "plt.xlabel('반복 (x10)')\n",
    "plt.ylabel('손실')\n",
    "plt.show()\n",
    "\n",
    "# 경계 영역 플롯\n",
    "h = 0.001\n",
    "x_min, x_max = x[:, 0].min() - .1, x[:, 0].max() + .1\n",
    "y_min, y_max = x[:, 1].min() - .1, x[:, 1].max() + .1\n",
    "xx, yy = np.meshgrid(np.arange(x_min, x_max, h), np.arange(y_min, y_max, h))\n",
    "X = np.c_[xx.ravel(), yy.ravel()]\n",
    "score = model.predict(X)\n",
    "predict_cls = np.argmax(score, axis=1)\n",
    "Z = predict_cls.reshape(xx.shape)\n",
    "plt.contourf(xx, yy, Z)\n",
    "plt.axis('off')\n",
    "\n",
    "# 데이터점 플롯\n",
    "x, t = spiral.load_data()\n",
    "N = 100\n",
    "CLS_NUM = 3\n",
    "markers = ['o', 'x', '^']\n",
    "for i in range(CLS_NUM):\n",
    "    plt.scatter(x[i*N:(i+1)*N, 0], x[i*N:(i+1)*N, 1], s=40, marker=markers[i])\n",
    "plt.show()"
   ]
  },
  {
   "cell_type": "markdown",
   "metadata": {},
   "source": [
    "  "
   ]
  },
  {
   "cell_type": "markdown",
   "metadata": {},
   "source": [
    "`np.random.permutation()`을 이용해 데이터 인덱스를 랜덤하게 셔플링할 수 있다."
   ]
  },
  {
   "cell_type": "code",
   "execution_count": 8,
   "metadata": {},
   "outputs": [
    {
     "data": {
      "text/plain": [
       "array([3, 5, 0, 9, 7, 6, 1, 2, 4, 8])"
      ]
     },
     "execution_count": 8,
     "metadata": {},
     "output_type": "execute_result"
    }
   ],
   "source": [
    "# 데이터 셔플링\n",
    "import numpy as np\n",
    "\n",
    "np.random.permutation(10)"
   ]
  },
  {
   "cell_type": "code",
   "execution_count": 9,
   "metadata": {},
   "outputs": [
    {
     "data": {
      "text/plain": [
       "array([6, 9, 5, 4, 1, 0, 8, 7, 3, 2])"
      ]
     },
     "execution_count": 9,
     "metadata": {},
     "output_type": "execute_result"
    }
   ],
   "source": [
    "np.random.permutation(10)"
   ]
  },
  {
   "cell_type": "markdown",
   "metadata": {},
   "source": [
    " "
   ]
  },
  {
   "cell_type": "markdown",
   "metadata": {},
   "source": [
    "### 1.4.4. Trainer 클래스"
   ]
  },
  {
   "cell_type": "code",
   "execution_count": 2,
   "metadata": {},
   "outputs": [
    {
     "name": "stdout",
     "output_type": "stream",
     "text": [
      "| 에폭 1 |  반복 1 / 10 | 시간 0[s] | 손실 1.10\n",
      "| 에폭 2 |  반복 1 / 10 | 시간 0[s] | 손실 1.12\n",
      "| 에폭 3 |  반복 1 / 10 | 시간 0[s] | 손실 1.13\n",
      "| 에폭 4 |  반복 1 / 10 | 시간 0[s] | 손실 1.12\n",
      "| 에폭 5 |  반복 1 / 10 | 시간 0[s] | 손실 1.12\n",
      "| 에폭 6 |  반복 1 / 10 | 시간 0[s] | 손실 1.10\n",
      "| 에폭 7 |  반복 1 / 10 | 시간 0[s] | 손실 1.14\n",
      "| 에폭 8 |  반복 1 / 10 | 시간 0[s] | 손실 1.16\n",
      "| 에폭 9 |  반복 1 / 10 | 시간 0[s] | 손실 1.11\n",
      "| 에폭 10 |  반복 1 / 10 | 시간 0[s] | 손실 1.12\n",
      "| 에폭 11 |  반복 1 / 10 | 시간 0[s] | 손실 1.12\n",
      "| 에폭 12 |  반복 1 / 10 | 시간 0[s] | 손실 1.12\n",
      "| 에폭 13 |  반복 1 / 10 | 시간 0[s] | 손실 1.10\n",
      "| 에폭 14 |  반복 1 / 10 | 시간 0[s] | 손실 1.09\n",
      "| 에폭 15 |  반복 1 / 10 | 시간 0[s] | 손실 1.08\n",
      "| 에폭 16 |  반복 1 / 10 | 시간 0[s] | 손실 1.04\n",
      "| 에폭 17 |  반복 1 / 10 | 시간 0[s] | 손실 1.03\n",
      "| 에폭 18 |  반복 1 / 10 | 시간 0[s] | 손실 0.94\n",
      "| 에폭 19 |  반복 1 / 10 | 시간 0[s] | 손실 0.92\n",
      "| 에폭 20 |  반복 1 / 10 | 시간 0[s] | 손실 0.92\n",
      "| 에폭 21 |  반복 1 / 10 | 시간 0[s] | 손실 0.87\n",
      "| 에폭 22 |  반복 1 / 10 | 시간 0[s] | 손실 0.85\n",
      "| 에폭 23 |  반복 1 / 10 | 시간 0[s] | 손실 0.80\n",
      "| 에폭 24 |  반복 1 / 10 | 시간 0[s] | 손실 0.79\n",
      "| 에폭 25 |  반복 1 / 10 | 시간 0[s] | 손실 0.78\n",
      "| 에폭 26 |  반복 1 / 10 | 시간 0[s] | 손실 0.83\n",
      "| 에폭 27 |  반복 1 / 10 | 시간 0[s] | 손실 0.77\n",
      "| 에폭 28 |  반복 1 / 10 | 시간 0[s] | 손실 0.76\n",
      "| 에폭 29 |  반복 1 / 10 | 시간 0[s] | 손실 0.77\n",
      "| 에폭 30 |  반복 1 / 10 | 시간 0[s] | 손실 0.76\n",
      "| 에폭 31 |  반복 1 / 10 | 시간 0[s] | 손실 0.77\n",
      "| 에폭 32 |  반복 1 / 10 | 시간 0[s] | 손실 0.75\n",
      "| 에폭 33 |  반복 1 / 10 | 시간 0[s] | 손실 0.78\n",
      "| 에폭 34 |  반복 1 / 10 | 시간 0[s] | 손실 0.77\n",
      "| 에폭 35 |  반복 1 / 10 | 시간 0[s] | 손실 0.78\n",
      "| 에폭 36 |  반복 1 / 10 | 시간 0[s] | 손실 0.74\n",
      "| 에폭 37 |  반복 1 / 10 | 시간 0[s] | 손실 0.75\n",
      "| 에폭 38 |  반복 1 / 10 | 시간 0[s] | 손실 0.77\n",
      "| 에폭 39 |  반복 1 / 10 | 시간 0[s] | 손실 0.75\n",
      "| 에폭 40 |  반복 1 / 10 | 시간 0[s] | 손실 0.73\n",
      "| 에폭 41 |  반복 1 / 10 | 시간 0[s] | 손실 0.75\n",
      "| 에폭 42 |  반복 1 / 10 | 시간 0[s] | 손실 0.76\n",
      "| 에폭 43 |  반복 1 / 10 | 시간 0[s] | 손실 0.79\n",
      "| 에폭 44 |  반복 1 / 10 | 시간 0[s] | 손실 0.74\n",
      "| 에폭 45 |  반복 1 / 10 | 시간 0[s] | 손실 0.75\n",
      "| 에폭 46 |  반복 1 / 10 | 시간 0[s] | 손실 0.73\n",
      "| 에폭 47 |  반복 1 / 10 | 시간 0[s] | 손실 0.73\n",
      "| 에폭 48 |  반복 1 / 10 | 시간 0[s] | 손실 0.73\n",
      "| 에폭 49 |  반복 1 / 10 | 시간 0[s] | 손실 0.73\n",
      "| 에폭 50 |  반복 1 / 10 | 시간 0[s] | 손실 0.72\n",
      "| 에폭 51 |  반복 1 / 10 | 시간 0[s] | 손실 0.72\n",
      "| 에폭 52 |  반복 1 / 10 | 시간 0[s] | 손실 0.72\n",
      "| 에폭 53 |  반복 1 / 10 | 시간 0[s] | 손실 0.72\n",
      "| 에폭 54 |  반복 1 / 10 | 시간 0[s] | 손실 0.74\n",
      "| 에폭 55 |  반복 1 / 10 | 시간 0[s] | 손실 0.74\n",
      "| 에폭 56 |  반복 1 / 10 | 시간 0[s] | 손실 0.73\n",
      "| 에폭 57 |  반복 1 / 10 | 시간 0[s] | 손실 0.72\n",
      "| 에폭 58 |  반복 1 / 10 | 시간 0[s] | 손실 0.69\n",
      "| 에폭 59 |  반복 1 / 10 | 시간 0[s] | 손실 0.72\n",
      "| 에폭 60 |  반복 1 / 10 | 시간 0[s] | 손실 0.70\n",
      "| 에폭 61 |  반복 1 / 10 | 시간 0[s] | 손실 0.69\n",
      "| 에폭 62 |  반복 1 / 10 | 시간 0[s] | 손실 0.71\n",
      "| 에폭 63 |  반복 1 / 10 | 시간 0[s] | 손실 0.70\n",
      "| 에폭 64 |  반복 1 / 10 | 시간 0[s] | 손실 0.71\n",
      "| 에폭 65 |  반복 1 / 10 | 시간 0[s] | 손실 0.72\n",
      "| 에폭 66 |  반복 1 / 10 | 시간 0[s] | 손실 0.71\n",
      "| 에폭 67 |  반복 1 / 10 | 시간 0[s] | 손실 0.71\n",
      "| 에폭 68 |  반복 1 / 10 | 시간 0[s] | 손실 0.71\n",
      "| 에폭 69 |  반복 1 / 10 | 시간 0[s] | 손실 0.70\n",
      "| 에폭 70 |  반복 1 / 10 | 시간 0[s] | 손실 0.68\n",
      "| 에폭 71 |  반복 1 / 10 | 시간 0[s] | 손실 0.73\n",
      "| 에폭 72 |  반복 1 / 10 | 시간 0[s] | 손실 0.66\n",
      "| 에폭 73 |  반복 1 / 10 | 시간 0[s] | 손실 0.69\n",
      "| 에폭 74 |  반복 1 / 10 | 시간 0[s] | 손실 0.66\n",
      "| 에폭 75 |  반복 1 / 10 | 시간 0[s] | 손실 0.70\n",
      "| 에폭 76 |  반복 1 / 10 | 시간 0[s] | 손실 0.65\n",
      "| 에폭 77 |  반복 1 / 10 | 시간 0[s] | 손실 0.67\n",
      "| 에폭 78 |  반복 1 / 10 | 시간 0[s] | 손실 0.70\n",
      "| 에폭 79 |  반복 1 / 10 | 시간 0[s] | 손실 0.63\n",
      "| 에폭 80 |  반복 1 / 10 | 시간 0[s] | 손실 0.66\n",
      "| 에폭 81 |  반복 1 / 10 | 시간 0[s] | 손실 0.65\n",
      "| 에폭 82 |  반복 1 / 10 | 시간 0[s] | 손실 0.66\n",
      "| 에폭 83 |  반복 1 / 10 | 시간 0[s] | 손실 0.64\n",
      "| 에폭 84 |  반복 1 / 10 | 시간 0[s] | 손실 0.62\n",
      "| 에폭 85 |  반복 1 / 10 | 시간 0[s] | 손실 0.62\n",
      "| 에폭 86 |  반복 1 / 10 | 시간 0[s] | 손실 0.63\n",
      "| 에폭 87 |  반복 1 / 10 | 시간 0[s] | 손실 0.59\n",
      "| 에폭 88 |  반복 1 / 10 | 시간 0[s] | 손실 0.58\n",
      "| 에폭 89 |  반복 1 / 10 | 시간 0[s] | 손실 0.61\n",
      "| 에폭 90 |  반복 1 / 10 | 시간 0[s] | 손실 0.59\n",
      "| 에폭 91 |  반복 1 / 10 | 시간 0[s] | 손실 0.58\n",
      "| 에폭 92 |  반복 1 / 10 | 시간 0[s] | 손실 0.57\n",
      "| 에폭 93 |  반복 1 / 10 | 시간 0[s] | 손실 0.55\n",
      "| 에폭 94 |  반복 1 / 10 | 시간 0[s] | 손실 0.54\n",
      "| 에폭 95 |  반복 1 / 10 | 시간 0[s] | 손실 0.53\n",
      "| 에폭 96 |  반복 1 / 10 | 시간 0[s] | 손실 0.54\n",
      "| 에폭 97 |  반복 1 / 10 | 시간 0[s] | 손실 0.51\n",
      "| 에폭 98 |  반복 1 / 10 | 시간 0[s] | 손실 0.51\n",
      "| 에폭 99 |  반복 1 / 10 | 시간 0[s] | 손실 0.50\n",
      "| 에폭 100 |  반복 1 / 10 | 시간 0[s] | 손실 0.47\n",
      "| 에폭 101 |  반복 1 / 10 | 시간 0[s] | 손실 0.49\n",
      "| 에폭 102 |  반복 1 / 10 | 시간 0[s] | 손실 0.46\n",
      "| 에폭 103 |  반복 1 / 10 | 시간 0[s] | 손실 0.44\n",
      "| 에폭 104 |  반복 1 / 10 | 시간 0[s] | 손실 0.47\n",
      "| 에폭 105 |  반복 1 / 10 | 시간 0[s] | 손실 0.44\n",
      "| 에폭 106 |  반복 1 / 10 | 시간 0[s] | 손실 0.43\n",
      "| 에폭 107 |  반복 1 / 10 | 시간 0[s] | 손실 0.43\n",
      "| 에폭 108 |  반복 1 / 10 | 시간 0[s] | 손실 0.39\n",
      "| 에폭 109 |  반복 1 / 10 | 시간 0[s] | 손실 0.40\n",
      "| 에폭 110 |  반복 1 / 10 | 시간 0[s] | 손실 0.41\n",
      "| 에폭 111 |  반복 1 / 10 | 시간 0[s] | 손실 0.38\n",
      "| 에폭 112 |  반복 1 / 10 | 시간 0[s] | 손실 0.38\n",
      "| 에폭 113 |  반복 1 / 10 | 시간 0[s] | 손실 0.38\n",
      "| 에폭 114 |  반복 1 / 10 | 시간 0[s] | 손실 0.37\n",
      "| 에폭 115 |  반복 1 / 10 | 시간 0[s] | 손실 0.36\n",
      "| 에폭 116 |  반복 1 / 10 | 시간 0[s] | 손실 0.34\n",
      "| 에폭 117 |  반복 1 / 10 | 시간 0[s] | 손실 0.35\n",
      "| 에폭 118 |  반복 1 / 10 | 시간 0[s] | 손실 0.33\n",
      "| 에폭 119 |  반복 1 / 10 | 시간 0[s] | 손실 0.35\n",
      "| 에폭 120 |  반복 1 / 10 | 시간 0[s] | 손실 0.33\n",
      "| 에폭 121 |  반복 1 / 10 | 시간 0[s] | 손실 0.33\n",
      "| 에폭 122 |  반복 1 / 10 | 시간 0[s] | 손실 0.32\n",
      "| 에폭 123 |  반복 1 / 10 | 시간 0[s] | 손실 0.31\n",
      "| 에폭 124 |  반복 1 / 10 | 시간 0[s] | 손실 0.31\n",
      "| 에폭 125 |  반복 1 / 10 | 시간 0[s] | 손실 0.31\n",
      "| 에폭 126 |  반복 1 / 10 | 시간 0[s] | 손실 0.30\n",
      "| 에폭 127 |  반복 1 / 10 | 시간 0[s] | 손실 0.30\n",
      "| 에폭 128 |  반복 1 / 10 | 시간 0[s] | 손실 0.27\n",
      "| 에폭 129 |  반복 1 / 10 | 시간 0[s] | 손실 0.30\n",
      "| 에폭 130 |  반복 1 / 10 | 시간 0[s] | 손실 0.28\n",
      "| 에폭 131 |  반복 1 / 10 | 시간 0[s] | 손실 0.26\n",
      "| 에폭 132 |  반복 1 / 10 | 시간 0[s] | 손실 0.27\n",
      "| 에폭 133 |  반복 1 / 10 | 시간 0[s] | 손실 0.27\n",
      "| 에폭 134 |  반복 1 / 10 | 시간 0[s] | 손실 0.28\n",
      "| 에폭 135 |  반복 1 / 10 | 시간 0[s] | 손실 0.26\n",
      "| 에폭 136 |  반복 1 / 10 | 시간 0[s] | 손실 0.28\n",
      "| 에폭 137 |  반복 1 / 10 | 시간 0[s] | 손실 0.25\n",
      "| 에폭 138 |  반복 1 / 10 | 시간 0[s] | 손실 0.26\n",
      "| 에폭 139 |  반복 1 / 10 | 시간 0[s] | 손실 0.26\n",
      "| 에폭 140 |  반복 1 / 10 | 시간 0[s] | 손실 0.26\n",
      "| 에폭 141 |  반복 1 / 10 | 시간 0[s] | 손실 0.23\n",
      "| 에폭 142 |  반복 1 / 10 | 시간 0[s] | 손실 0.23\n",
      "| 에폭 143 |  반복 1 / 10 | 시간 0[s] | 손실 0.26\n",
      "| 에폭 144 |  반복 1 / 10 | 시간 0[s] | 손실 0.23\n",
      "| 에폭 145 |  반복 1 / 10 | 시간 0[s] | 손실 0.24\n",
      "| 에폭 146 |  반복 1 / 10 | 시간 0[s] | 손실 0.24\n",
      "| 에폭 147 |  반복 1 / 10 | 시간 0[s] | 손실 0.25\n",
      "| 에폭 148 |  반복 1 / 10 | 시간 0[s] | 손실 0.21\n",
      "| 에폭 149 |  반복 1 / 10 | 시간 0[s] | 손실 0.23\n",
      "| 에폭 150 |  반복 1 / 10 | 시간 0[s] | 손실 0.22\n",
      "| 에폭 151 |  반복 1 / 10 | 시간 0[s] | 손실 0.22\n",
      "| 에폭 152 |  반복 1 / 10 | 시간 0[s] | 손실 0.23\n",
      "| 에폭 153 |  반복 1 / 10 | 시간 0[s] | 손실 0.23\n",
      "| 에폭 154 |  반복 1 / 10 | 시간 0[s] | 손실 0.20\n",
      "| 에폭 155 |  반복 1 / 10 | 시간 0[s] | 손실 0.22\n",
      "| 에폭 156 |  반복 1 / 10 | 시간 0[s] | 손실 0.21\n",
      "| 에폭 157 |  반복 1 / 10 | 시간 0[s] | 손실 0.21\n",
      "| 에폭 158 |  반복 1 / 10 | 시간 0[s] | 손실 0.20\n",
      "| 에폭 159 |  반복 1 / 10 | 시간 0[s] | 손실 0.21\n",
      "| 에폭 160 |  반복 1 / 10 | 시간 0[s] | 손실 0.20\n",
      "| 에폭 161 |  반복 1 / 10 | 시간 0[s] | 손실 0.19\n",
      "| 에폭 162 |  반복 1 / 10 | 시간 0[s] | 손실 0.22\n",
      "| 에폭 163 |  반복 1 / 10 | 시간 0[s] | 손실 0.19\n",
      "| 에폭 164 |  반복 1 / 10 | 시간 0[s] | 손실 0.21\n",
      "| 에폭 165 |  반복 1 / 10 | 시간 0[s] | 손실 0.20\n",
      "| 에폭 166 |  반복 1 / 10 | 시간 0[s] | 손실 0.20\n",
      "| 에폭 167 |  반복 1 / 10 | 시간 0[s] | 손실 0.20\n",
      "| 에폭 168 |  반복 1 / 10 | 시간 0[s] | 손실 0.19\n",
      "| 에폭 169 |  반복 1 / 10 | 시간 0[s] | 손실 0.18\n",
      "| 에폭 170 |  반복 1 / 10 | 시간 0[s] | 손실 0.19\n",
      "| 에폭 171 |  반복 1 / 10 | 시간 0[s] | 손실 0.19\n",
      "| 에폭 172 |  반복 1 / 10 | 시간 0[s] | 손실 0.20\n",
      "| 에폭 173 |  반복 1 / 10 | 시간 0[s] | 손실 0.16\n",
      "| 에폭 174 |  반복 1 / 10 | 시간 0[s] | 손실 0.20\n",
      "| 에폭 175 |  반복 1 / 10 | 시간 0[s] | 손실 0.18\n",
      "| 에폭 176 |  반복 1 / 10 | 시간 0[s] | 손실 0.17\n",
      "| 에폭 177 |  반복 1 / 10 | 시간 0[s] | 손실 0.17\n",
      "| 에폭 178 |  반복 1 / 10 | 시간 0[s] | 손실 0.17\n",
      "| 에폭 179 |  반복 1 / 10 | 시간 0[s] | 손실 0.18\n",
      "| 에폭 180 |  반복 1 / 10 | 시간 0[s] | 손실 0.19\n",
      "| 에폭 181 |  반복 1 / 10 | 시간 0[s] | 손실 0.17\n",
      "| 에폭 182 |  반복 1 / 10 | 시간 0[s] | 손실 0.18\n",
      "| 에폭 183 |  반복 1 / 10 | 시간 0[s] | 손실 0.16\n",
      "| 에폭 184 |  반복 1 / 10 | 시간 0[s] | 손실 0.18\n",
      "| 에폭 185 |  반복 1 / 10 | 시간 0[s] | 손실 0.18\n",
      "| 에폭 186 |  반복 1 / 10 | 시간 0[s] | 손실 0.17\n",
      "| 에폭 187 |  반복 1 / 10 | 시간 0[s] | 손실 0.17\n",
      "| 에폭 188 |  반복 1 / 10 | 시간 0[s] | 손실 0.18\n",
      "| 에폭 189 |  반복 1 / 10 | 시간 0[s] | 손실 0.16\n",
      "| 에폭 190 |  반복 1 / 10 | 시간 0[s] | 손실 0.16\n",
      "| 에폭 191 |  반복 1 / 10 | 시간 0[s] | 손실 0.17\n",
      "| 에폭 192 |  반복 1 / 10 | 시간 0[s] | 손실 0.17\n",
      "| 에폭 193 |  반복 1 / 10 | 시간 0[s] | 손실 0.16\n",
      "| 에폭 194 |  반복 1 / 10 | 시간 0[s] | 손실 0.16\n",
      "| 에폭 195 |  반복 1 / 10 | 시간 0[s] | 손실 0.16\n",
      "| 에폭 196 |  반복 1 / 10 | 시간 0[s] | 손실 0.17\n",
      "| 에폭 197 |  반복 1 / 10 | 시간 0[s] | 손실 0.16\n",
      "| 에폭 198 |  반복 1 / 10 | 시간 0[s] | 손실 0.17\n",
      "| 에폭 199 |  반복 1 / 10 | 시간 0[s] | 손실 0.16\n",
      "| 에폭 200 |  반복 1 / 10 | 시간 0[s] | 손실 0.14\n",
      "| 에폭 201 |  반복 1 / 10 | 시간 0[s] | 손실 0.16\n",
      "| 에폭 202 |  반복 1 / 10 | 시간 0[s] | 손실 0.16\n",
      "| 에폭 203 |  반복 1 / 10 | 시간 0[s] | 손실 0.15\n",
      "| 에폭 204 |  반복 1 / 10 | 시간 0[s] | 손실 0.16\n",
      "| 에폭 205 |  반복 1 / 10 | 시간 0[s] | 손실 0.14\n",
      "| 에폭 206 |  반복 1 / 10 | 시간 0[s] | 손실 0.16\n",
      "| 에폭 207 |  반복 1 / 10 | 시간 0[s] | 손실 0.16\n",
      "| 에폭 208 |  반복 1 / 10 | 시간 0[s] | 손실 0.14\n",
      "| 에폭 209 |  반복 1 / 10 | 시간 0[s] | 손실 0.15\n",
      "| 에폭 210 |  반복 1 / 10 | 시간 0[s] | 손실 0.16\n",
      "| 에폭 211 |  반복 1 / 10 | 시간 0[s] | 손실 0.14\n",
      "| 에폭 212 |  반복 1 / 10 | 시간 0[s] | 손실 0.15\n",
      "| 에폭 213 |  반복 1 / 10 | 시간 0[s] | 손실 0.15\n",
      "| 에폭 214 |  반복 1 / 10 | 시간 0[s] | 손실 0.15\n",
      "| 에폭 215 |  반복 1 / 10 | 시간 0[s] | 손실 0.14\n",
      "| 에폭 216 |  반복 1 / 10 | 시간 0[s] | 손실 0.14\n",
      "| 에폭 217 |  반복 1 / 10 | 시간 0[s] | 손실 0.15\n",
      "| 에폭 218 |  반복 1 / 10 | 시간 0[s] | 손실 0.14\n",
      "| 에폭 219 |  반복 1 / 10 | 시간 0[s] | 손실 0.15\n",
      "| 에폭 220 |  반복 1 / 10 | 시간 0[s] | 손실 0.15\n",
      "| 에폭 221 |  반복 1 / 10 | 시간 0[s] | 손실 0.14\n",
      "| 에폭 222 |  반복 1 / 10 | 시간 0[s] | 손실 0.13\n",
      "| 에폭 223 |  반복 1 / 10 | 시간 0[s] | 손실 0.15\n",
      "| 에폭 224 |  반복 1 / 10 | 시간 0[s] | 손실 0.14\n",
      "| 에폭 225 |  반복 1 / 10 | 시간 0[s] | 손실 0.16\n",
      "| 에폭 226 |  반복 1 / 10 | 시간 0[s] | 손실 0.12\n",
      "| 에폭 227 |  반복 1 / 10 | 시간 0[s] | 손실 0.13\n",
      "| 에폭 228 |  반복 1 / 10 | 시간 0[s] | 손실 0.15\n",
      "| 에폭 229 |  반복 1 / 10 | 시간 0[s] | 손실 0.14\n",
      "| 에폭 230 |  반복 1 / 10 | 시간 0[s] | 손실 0.13\n",
      "| 에폭 231 |  반복 1 / 10 | 시간 0[s] | 손실 0.14\n",
      "| 에폭 232 |  반복 1 / 10 | 시간 0[s] | 손실 0.13\n",
      "| 에폭 233 |  반복 1 / 10 | 시간 0[s] | 손실 0.13\n",
      "| 에폭 234 |  반복 1 / 10 | 시간 0[s] | 손실 0.14\n",
      "| 에폭 235 |  반복 1 / 10 | 시간 0[s] | 손실 0.13\n",
      "| 에폭 236 |  반복 1 / 10 | 시간 0[s] | 손실 0.12\n",
      "| 에폭 237 |  반복 1 / 10 | 시간 0[s] | 손실 0.13\n",
      "| 에폭 238 |  반복 1 / 10 | 시간 0[s] | 손실 0.14\n",
      "| 에폭 239 |  반복 1 / 10 | 시간 0[s] | 손실 0.14\n",
      "| 에폭 240 |  반복 1 / 10 | 시간 0[s] | 손실 0.13\n",
      "| 에폭 241 |  반복 1 / 10 | 시간 0[s] | 손실 0.14\n",
      "| 에폭 242 |  반복 1 / 10 | 시간 0[s] | 손실 0.13\n",
      "| 에폭 243 |  반복 1 / 10 | 시간 0[s] | 손실 0.13\n",
      "| 에폭 244 |  반복 1 / 10 | 시간 0[s] | 손실 0.14\n",
      "| 에폭 245 |  반복 1 / 10 | 시간 0[s] | 손실 0.12\n",
      "| 에폭 246 |  반복 1 / 10 | 시간 0[s] | 손실 0.13\n",
      "| 에폭 247 |  반복 1 / 10 | 시간 0[s] | 손실 0.13\n",
      "| 에폭 248 |  반복 1 / 10 | 시간 0[s] | 손실 0.12\n",
      "| 에폭 249 |  반복 1 / 10 | 시간 0[s] | 손실 0.14\n",
      "| 에폭 250 |  반복 1 / 10 | 시간 0[s] | 손실 0.12\n",
      "| 에폭 251 |  반복 1 / 10 | 시간 0[s] | 손실 0.13\n",
      "| 에폭 252 |  반복 1 / 10 | 시간 0[s] | 손실 0.13\n",
      "| 에폭 253 |  반복 1 / 10 | 시간 0[s] | 손실 0.12\n",
      "| 에폭 254 |  반복 1 / 10 | 시간 0[s] | 손실 0.12\n",
      "| 에폭 255 |  반복 1 / 10 | 시간 0[s] | 손실 0.13\n",
      "| 에폭 256 |  반복 1 / 10 | 시간 0[s] | 손실 0.12\n",
      "| 에폭 257 |  반복 1 / 10 | 시간 0[s] | 손실 0.12\n",
      "| 에폭 258 |  반복 1 / 10 | 시간 0[s] | 손실 0.12\n",
      "| 에폭 259 |  반복 1 / 10 | 시간 0[s] | 손실 0.13\n",
      "| 에폭 260 |  반복 1 / 10 | 시간 0[s] | 손실 0.13\n",
      "| 에폭 261 |  반복 1 / 10 | 시간 0[s] | 손실 0.11\n",
      "| 에폭 262 |  반복 1 / 10 | 시간 0[s] | 손실 0.13\n",
      "| 에폭 263 |  반복 1 / 10 | 시간 0[s] | 손실 0.12\n",
      "| 에폭 264 |  반복 1 / 10 | 시간 0[s] | 손실 0.11\n",
      "| 에폭 265 |  반복 1 / 10 | 시간 0[s] | 손실 0.14\n",
      "| 에폭 266 |  반복 1 / 10 | 시간 0[s] | 손실 0.11\n",
      "| 에폭 267 |  반복 1 / 10 | 시간 0[s] | 손실 0.13\n",
      "| 에폭 268 |  반복 1 / 10 | 시간 0[s] | 손실 0.11\n",
      "| 에폭 269 |  반복 1 / 10 | 시간 0[s] | 손실 0.13\n",
      "| 에폭 270 |  반복 1 / 10 | 시간 0[s] | 손실 0.11\n",
      "| 에폭 271 |  반복 1 / 10 | 시간 0[s] | 손실 0.12\n",
      "| 에폭 272 |  반복 1 / 10 | 시간 0[s] | 손실 0.12\n",
      "| 에폭 273 |  반복 1 / 10 | 시간 0[s] | 손실 0.12\n",
      "| 에폭 274 |  반복 1 / 10 | 시간 0[s] | 손실 0.12\n",
      "| 에폭 275 |  반복 1 / 10 | 시간 0[s] | 손실 0.12\n",
      "| 에폭 276 |  반복 1 / 10 | 시간 0[s] | 손실 0.12\n",
      "| 에폭 277 |  반복 1 / 10 | 시간 0[s] | 손실 0.11\n",
      "| 에폭 278 |  반복 1 / 10 | 시간 0[s] | 손실 0.13\n",
      "| 에폭 279 |  반복 1 / 10 | 시간 0[s] | 손실 0.11\n",
      "| 에폭 280 |  반복 1 / 10 | 시간 0[s] | 손실 0.10\n",
      "| 에폭 281 |  반복 1 / 10 | 시간 0[s] | 손실 0.12\n",
      "| 에폭 282 |  반복 1 / 10 | 시간 0[s] | 손실 0.11\n",
      "| 에폭 283 |  반복 1 / 10 | 시간 0[s] | 손실 0.12\n",
      "| 에폭 284 |  반복 1 / 10 | 시간 0[s] | 손실 0.11\n",
      "| 에폭 285 |  반복 1 / 10 | 시간 0[s] | 손실 0.11\n",
      "| 에폭 286 |  반복 1 / 10 | 시간 0[s] | 손실 0.12\n",
      "| 에폭 287 |  반복 1 / 10 | 시간 0[s] | 손실 0.11\n",
      "| 에폭 288 |  반복 1 / 10 | 시간 0[s] | 손실 0.11\n",
      "| 에폭 289 |  반복 1 / 10 | 시간 0[s] | 손실 0.12\n",
      "| 에폭 290 |  반복 1 / 10 | 시간 0[s] | 손실 0.11\n",
      "| 에폭 291 |  반복 1 / 10 | 시간 0[s] | 손실 0.11\n",
      "| 에폭 292 |  반복 1 / 10 | 시간 0[s] | 손실 0.11\n",
      "| 에폭 293 |  반복 1 / 10 | 시간 0[s] | 손실 0.11\n",
      "| 에폭 294 |  반복 1 / 10 | 시간 0[s] | 손실 0.11\n",
      "| 에폭 295 |  반복 1 / 10 | 시간 0[s] | 손실 0.11\n",
      "| 에폭 296 |  반복 1 / 10 | 시간 0[s] | 손실 0.12\n",
      "| 에폭 297 |  반복 1 / 10 | 시간 0[s] | 손실 0.11\n",
      "| 에폭 298 |  반복 1 / 10 | 시간 0[s] | 손실 0.11\n",
      "| 에폭 299 |  반복 1 / 10 | 시간 0[s] | 손실 0.11\n",
      "| 에폭 300 |  반복 1 / 10 | 시간 0[s] | 손실 0.11\n"
     ]
    },
    {
     "data": {
      "image/png": "[encoded data removed]",
      "text/plain": [
       "<Figure size 432x288 with 1 Axes>"
      ]
     },
     "metadata": {
      "needs_background": "light"
     },
     "output_type": "display_data"
    }
   ],
   "source": [
    "# ch01/train.py\n",
    "%matplotlib inline\n",
    "import sys\n",
    "sys.path.append('..')\n",
    "from common.optimizer import SGD\n",
    "from common.trainer import Trainer\n",
    "from dataset import spiral\n",
    "from two_layer_net import TwoLayerNet\n",
    "\n",
    "# 하이퍼파라미터 설정\n",
    "max_epoch = 300\n",
    "batch_size = 30\n",
    "hidden_size = 10\n",
    "learning_rate = 1.0\n",
    "\n",
    "x, t = spiral.load_data()\n",
    "model = TwoLayerNet(input_size=2, hidden_size=hidden_size, output_size=3)\n",
    "optimizer = SGD(lr=learning_rate)\n",
    "\n",
    "trainer = Trainer(model, optimizer)\n",
    "trainer.fit(x, t, max_epoch, batch_size, eval_interval=10)\n",
    "trainer.plot()"
   ]
  },
  {
   "cell_type": "markdown",
   "metadata": {},
   "source": [
    " "
   ]
  },
  {
   "cell_type": "markdown",
   "metadata": {},
   "source": [
    "## 1.5 계산 고속화"
   ]
  },
  {
   "cell_type": "markdown",
   "metadata": {},
   "source": [
    "### 1.5.1 비트 정밀도\n",
    "\n",
    "`NumPy`의 부동소수점 수는 기본적으로 64비트 데이터 타입을 사용한다."
   ]
  },
  {
   "cell_type": "code",
   "execution_count": 3,
   "metadata": {},
   "outputs": [
    {
     "data": {
      "text/plain": [
       "dtype('float64')"
      ]
     },
     "execution_count": 3,
     "metadata": {},
     "output_type": "execute_result"
    }
   ],
   "source": [
    "import numpy as np\n",
    "\n",
    "a = np.random.randn(3)\n",
    "a.dtype"
   ]
  },
  {
   "cell_type": "markdown",
   "metadata": {},
   "source": [
    " "
   ]
  },
  {
   "cell_type": "markdown",
   "metadata": {},
   "source": [
    "`NumPy`는 64비트 부동소수점 수를 표준으로 사용하지만, 신경망의 추론과 학습은 32비트 부동소수점 수로도 문제없이 수행할 수 있다고 한다. 32비트는 64비트의 절반이므로, 메모리 관점에서는 항상 32비트 좋다. 그리고 계산 속도 측면에서도 32비트 부동소수점 수가 일반적으로 더 빠르다."
   ]
  },
  {
   "cell_type": "markdown",
   "metadata": {},
   "source": [
    "`NumPy`에서 32비트 부동소수점 수를 사용하려면 다음과 같이 데이터 타입을 `np.float32`나 `f`로 지정한다."
   ]
  },
  {
   "cell_type": "code",
   "execution_count": 4,
   "metadata": {},
   "outputs": [
    {
     "data": {
      "text/plain": [
       "dtype('float32')"
      ]
     },
     "execution_count": 4,
     "metadata": {},
     "output_type": "execute_result"
    }
   ],
   "source": [
    "b = np.random.randn(3).astype(np.float32)\n",
    "b.dtype"
   ]
  },
  {
   "cell_type": "code",
   "execution_count": 5,
   "metadata": {},
   "outputs": [
    {
     "data": {
      "text/plain": [
       "dtype('float32')"
      ]
     },
     "execution_count": 5,
     "metadata": {},
     "output_type": "execute_result"
    }
   ],
   "source": [
    "c = np.random.randn(3).astype('f')\n",
    "c.dtype"
   ]
  },
  {
   "cell_type": "markdown",
   "metadata": {},
   "source": [
    " "
   ]
  },
  {
   "cell_type": "markdown",
   "metadata": {},
   "source": [
    "### 1.5.2 GPU(CuPy)\n",
    "\n",
    "- `pip install cupy`\n",
    "\n",
    "`CuPy`의 사용법은 `NumPy`와 같다."
   ]
  },
  {
   "cell_type": "code",
   "execution_count": 7,
   "metadata": {},
   "outputs": [
    {
     "data": {
      "text/plain": [
       "array([[0., 1., 2.],\n",
       "       [3., 4., 5.]], dtype=float32)"
      ]
     },
     "execution_count": 7,
     "metadata": {},
     "output_type": "execute_result"
    }
   ],
   "source": [
    "import cupy as cp\n",
    "\n",
    "x = cp.arange(6).reshape(2, 3).astype('f')\n",
    "x"
   ]
  },
  {
   "cell_type": "code",
   "execution_count": 8,
   "metadata": {},
   "outputs": [
    {
     "data": {
      "text/plain": [
       "array([ 3., 12.], dtype=float32)"
      ]
     },
     "execution_count": 8,
     "metadata": {},
     "output_type": "execute_result"
    }
   ],
   "source": [
    "x.sum(axis=1)"
   ]
  }
 ],
 "metadata": {
  "kernelspec": {
   "display_name": "CuPy",
   "language": "python",
   "name": "cupy"
  },
  "language_info": {
   "codemirror_mode": {
    "name": "ipython",
    "version": 3
   },
   "file_extension": ".py",
   "mimetype": "text/x-python",
   "name": "python",
   "nbconvert_exporter": "python",
   "pygments_lexer": "ipython3",
   "version": "3.6.8"
  }
 },
 "nbformat": 4,
 "nbformat_minor": 2
}
